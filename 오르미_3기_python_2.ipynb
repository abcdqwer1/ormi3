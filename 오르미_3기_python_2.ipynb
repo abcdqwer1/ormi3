{
  "nbformat": 4,
  "nbformat_minor": 0,
  "metadata": {
    "colab": {
      "provenance": [],
      "authorship_tag": "ABX9TyNUPgAp6EGESTEnhL4kUDHZ",
      "include_colab_link": true
    },
    "kernelspec": {
      "name": "python3",
      "display_name": "Python 3"
    },
    "language_info": {
      "name": "python"
    }
  },
  "cells": [
    {
      "cell_type": "markdown",
      "metadata": {
        "id": "view-in-github",
        "colab_type": "text"
      },
      "source": [
        "<a href=\"https://colab.research.google.com/github/abcdqwer1/ormi3/blob/main/%EC%98%A4%EB%A5%B4%EB%AF%B8_3%EA%B8%B0_python_2.ipynb\" target=\"_parent\"><img src=\"https://colab.research.google.com/assets/colab-badge.svg\" alt=\"Open In Colab\"/></a>"
      ]
    },
    {
      "cell_type": "markdown",
      "source": [
        "# 연산과 구문"
      ],
      "metadata": {
        "id": "gDl2pq9CvrDL"
      }
    },
    {
      "cell_type": "markdown",
      "source": [
        "# 산술 연산자"
      ],
      "metadata": {
        "id": "mhbelFdOvwIL"
      }
    },
    {
      "cell_type": "code",
      "source": [
        "{'one':1} + {'two':2} # error\n",
        "{5} + {6} # error"
      ],
      "metadata": {
        "colab": {
          "base_uri": "https://localhost:8080/",
          "height": 203
        },
        "id": "tQ_2sY-svttP",
        "outputId": "5554132f-ea5c-4965-f959-ad182b6b3684"
      },
      "execution_count": 1,
      "outputs": [
        {
          "output_type": "error",
          "ename": "TypeError",
          "evalue": "ignored",
          "traceback": [
            "\u001b[0;31m---------------------------------------------------------------------------\u001b[0m",
            "\u001b[0;31mTypeError\u001b[0m                                 Traceback (most recent call last)",
            "\u001b[0;32m<ipython-input-1-bf146d4a3706>\u001b[0m in \u001b[0;36m<cell line: 1>\u001b[0;34m()\u001b[0m\n\u001b[0;32m----> 1\u001b[0;31m \u001b[0;34m{\u001b[0m\u001b[0;34m'one'\u001b[0m\u001b[0;34m:\u001b[0m\u001b[0;36m1\u001b[0m\u001b[0;34m}\u001b[0m \u001b[0;34m+\u001b[0m \u001b[0;34m{\u001b[0m\u001b[0;34m'two'\u001b[0m\u001b[0;34m:\u001b[0m\u001b[0;36m2\u001b[0m\u001b[0;34m}\u001b[0m \u001b[0;31m# error\u001b[0m\u001b[0;34m\u001b[0m\u001b[0;34m\u001b[0m\u001b[0m\n\u001b[0m\u001b[1;32m      2\u001b[0m \u001b[0;34m{\u001b[0m\u001b[0;36m5\u001b[0m\u001b[0;34m}\u001b[0m \u001b[0;34m+\u001b[0m \u001b[0;34m{\u001b[0m\u001b[0;36m6\u001b[0m\u001b[0;34m}\u001b[0m \u001b[0;31m# error\u001b[0m\u001b[0;34m\u001b[0m\u001b[0;34m\u001b[0m\u001b[0m\n",
            "\u001b[0;31mTypeError\u001b[0m: unsupported operand type(s) for +: 'dict' and 'dict'"
          ]
        }
      ]
    },
    {
      "cell_type": "code",
      "source": [
        "7 -- 4"
      ],
      "metadata": {
        "colab": {
          "base_uri": "https://localhost:8080/"
        },
        "id": "e-FP9ps9wHAs",
        "outputId": "2bec3b07-c6a8-40eb-a64d-1b7b87591628"
      },
      "execution_count": 2,
      "outputs": [
        {
          "output_type": "execute_result",
          "data": {
            "text/plain": [
              "11"
            ]
          },
          "metadata": {},
          "execution_count": 2
        }
      ]
    },
    {
      "cell_type": "code",
      "source": [
        "7 --- 4"
      ],
      "metadata": {
        "colab": {
          "base_uri": "https://localhost:8080/"
        },
        "id": "fHP1czUCwWoM",
        "outputId": "c065dc26-ef93-46c1-d422-f98311c0bf0b"
      },
      "execution_count": 3,
      "outputs": [
        {
          "output_type": "execute_result",
          "data": {
            "text/plain": [
              "3"
            ]
          },
          "metadata": {},
          "execution_count": 3
        }
      ]
    },
    {
      "cell_type": "code",
      "source": [
        "-2 ** 2 # 주의 매우 주의"
      ],
      "metadata": {
        "colab": {
          "base_uri": "https://localhost:8080/"
        },
        "id": "-od-moUlwYoP",
        "outputId": "71cfe4af-bd28-4048-ccd6-75c42cdb86a3"
      },
      "execution_count": 4,
      "outputs": [
        {
          "output_type": "execute_result",
          "data": {
            "text/plain": [
              "-4"
            ]
          },
          "metadata": {},
          "execution_count": 4
        }
      ]
    },
    {
      "cell_type": "code",
      "source": [
        "# 음수의 경우 두번째 값이 -2로 나올 것이라 예상하셨겠지만 -3이 나온 것을 확인할 수 있습니다.\n",
        "# 이는 // 연산이 내림이기 때문에 그렇습니다.\n",
        "a = -5\n",
        "b = 2\n",
        "print(a / b) # 결과: -2.5\n",
        "print(a // b) # 결과: -3"
      ],
      "metadata": {
        "id": "Byd9Kb7awyWO"
      },
      "execution_count": null,
      "outputs": []
    },
    {
      "cell_type": "code",
      "source": [
        "10 / 0 # ZeroDivisionError"
      ],
      "metadata": {
        "colab": {
          "base_uri": "https://localhost:8080/",
          "height": 184
        },
        "id": "Skzd8lMpyYrK",
        "outputId": "7dd7e8ed-c31d-41db-a9cd-f2ced3a7af66"
      },
      "execution_count": 5,
      "outputs": [
        {
          "output_type": "error",
          "ename": "ZeroDivisionError",
          "evalue": "ignored",
          "traceback": [
            "\u001b[0;31m---------------------------------------------------------------------------\u001b[0m",
            "\u001b[0;31mZeroDivisionError\u001b[0m                         Traceback (most recent call last)",
            "\u001b[0;32m<ipython-input-5-cd759d3fcf39>\u001b[0m in \u001b[0;36m<cell line: 1>\u001b[0;34m()\u001b[0m\n\u001b[0;32m----> 1\u001b[0;31m \u001b[0;36m10\u001b[0m \u001b[0;34m/\u001b[0m \u001b[0;36m0\u001b[0m\u001b[0;34m\u001b[0m\u001b[0;34m\u001b[0m\u001b[0m\n\u001b[0m",
            "\u001b[0;31mZeroDivisionError\u001b[0m: division by zero"
          ]
        }
      ]
    },
    {
      "cell_type": "code",
      "source": [
        "a = 10\n",
        "b = 3\n",
        "divide = a / b\n",
        "print(f'{a} ÷ {b} = {divide:.2f}')  # 결과: 10 ÷ 3 = 3.33"
      ],
      "metadata": {
        "colab": {
          "base_uri": "https://localhost:8080/"
        },
        "id": "svE-qWGQyZwo",
        "outputId": "866f0233-42de-43ba-9671-929c2bc3b925"
      },
      "execution_count": 6,
      "outputs": [
        {
          "output_type": "stream",
          "name": "stdout",
          "text": [
            "10 ÷ 3 = 3.33\n"
          ]
        }
      ]
    },
    {
      "cell_type": "code",
      "source": [
        "a = 10\n",
        "b = 3\n",
        "divide = a / b\n",
        "print(f'{a} ÷ {b} = {divide:.3f}')  # 결과: 10 ÷ 3 = 3.33"
      ],
      "metadata": {
        "colab": {
          "base_uri": "https://localhost:8080/"
        },
        "id": "fZqV-lpI1lcH",
        "outputId": "4262dc1e-908c-4d6c-bcfa-2e2c3fa1d47e"
      },
      "execution_count": 7,
      "outputs": [
        {
          "output_type": "stream",
          "name": "stdout",
          "text": [
            "10 ÷ 3 = 3.333\n"
          ]
        }
      ]
    },
    {
      "cell_type": "markdown",
      "source": [
        "# 비교 연산자"
      ],
      "metadata": {
        "id": "qxL55dvf3ctR"
      }
    },
    {
      "cell_type": "code",
      "source": [
        "print('한' < '후')"
      ],
      "metadata": {
        "colab": {
          "base_uri": "https://localhost:8080/"
        },
        "id": "2yo68LMb1mjG",
        "outputId": "7ed358b8-4e19-4129-f26a-b34a68cb35ec"
      },
      "execution_count": 8,
      "outputs": [
        {
          "output_type": "stream",
          "name": "stdout",
          "text": [
            "True\n"
          ]
        }
      ]
    },
    {
      "cell_type": "code",
      "source": [
        "print('apple' < 'banana') # 결과: True"
      ],
      "metadata": {
        "colab": {
          "base_uri": "https://localhost:8080/"
        },
        "id": "HHve0Fid3gcE",
        "outputId": "7fc28f1b-f3da-4d29-9e92-dc7ce6c8b218"
      },
      "execution_count": 9,
      "outputs": [
        {
          "output_type": "stream",
          "name": "stdout",
          "text": [
            "True\n"
          ]
        }
      ]
    },
    {
      "cell_type": "code",
      "source": [
        "x = 10\n",
        "print(5 < x < 15) # 결과: True"
      ],
      "metadata": {
        "id": "UA7URz8V3vg4"
      },
      "execution_count": null,
      "outputs": []
    },
    {
      "cell_type": "markdown",
      "source": [
        "# 논리연산자"
      ],
      "metadata": {
        "id": "AafTRuLe4iR8"
      }
    },
    {
      "cell_type": "code",
      "source": [
        "# and(곱), or(합), not(부정)\n",
        "x = True # 1\n",
        "y = False # 0\n",
        "\n",
        "print(True and False) # False\n",
        "print(True and True) # True\n",
        "print(True or False) # True\n",
        "print(True or True) # True"
      ],
      "metadata": {
        "id": "mKtZzZIfFtjd"
      },
      "execution_count": null,
      "outputs": []
    },
    {
      "cell_type": "code",
      "source": [
        "for i in range(101):\n",
        "    if i % 3 == 0 and i % 5 == 0:\n",
        "        print(i)"
      ],
      "metadata": {
        "id": "eTapxWKwFvat"
      },
      "execution_count": null,
      "outputs": []
    },
    {
      "cell_type": "code",
      "source": [
        "for i in range(101):\n",
        "    if i % 3 == 0:\n",
        "        if i % 5 == 0:\n",
        "            print(i)\n",
        "\n",
        "for i in range(101):\n",
        "    if i % 3 == 0 and i % 5 == 0:\n",
        "        print(i)"
      ],
      "metadata": {
        "id": "P7CP_tRhFw3N"
      },
      "execution_count": null,
      "outputs": []
    },
    {
      "cell_type": "code",
      "source": [
        "# https://codingdojang.com/scode/350?answer_mode=hide\n",
        "for i in range(101):\n",
        "    if i % 3 == 0 or i % 5 == 0:\n",
        "        print(i)"
      ],
      "metadata": {
        "id": "2zEGVj53FyXP"
      },
      "execution_count": null,
      "outputs": []
    },
    {
      "cell_type": "code",
      "source": [
        "print(not True)  # 결과: False\n",
        "print(not False) # 결과: True"
      ],
      "metadata": {
        "id": "SgIv1OzXFzru"
      },
      "execution_count": null,
      "outputs": []
    },
    {
      "cell_type": "code",
      "source": [
        "# 여기서부터는 나아가기 입니다.\n",
        "a = True\n",
        "b = False\n",
        "\n",
        "a and b and ccc and ddd # 디버깅 할 때 조심"
      ],
      "metadata": {
        "colab": {
          "base_uri": "https://localhost:8080/"
        },
        "id": "LhoJsrKCF0uo",
        "outputId": "f9209de8-1101-4848-8021-036b5ef36721"
      },
      "execution_count": 12,
      "outputs": [
        {
          "output_type": "execute_result",
          "data": {
            "text/plain": [
              "False"
            ]
          },
          "metadata": {},
          "execution_count": 12
        }
      ]
    },
    {
      "cell_type": "code",
      "source": [
        "a = True\n",
        "b = False\n",
        "\n",
        "a or b or eee or fff"
      ],
      "metadata": {
        "colab": {
          "base_uri": "https://localhost:8080/"
        },
        "id": "gtPIxpNRF4m6",
        "outputId": "cff0f570-bb4a-4e79-d602-4e4092bfa66e"
      },
      "execution_count": 11,
      "outputs": [
        {
          "output_type": "execute_result",
          "data": {
            "text/plain": [
              "True"
            ]
          },
          "metadata": {},
          "execution_count": 11
        }
      ]
    },
    {
      "cell_type": "code",
      "source": [
        "# 이건 왜 True이죠???\n",
        "# 헷갈리시면 괄호 써주세요.\n",
        "#                                                                   우선순위\n",
        "# x OR y (또는 연산자)\t    if x is FALSE, then y, else x\t        1\n",
        "# x AND y (그리고 연산자)\tif x is FALSE, then x, else y\t        2\n",
        "# NOT x (부정 연산자)\t    if x if FALSE, then True, else FALSE\t3\n",
        "a = True\n",
        "b = False\n",
        "c = False\n",
        "\n",
        "a or b and c"
      ],
      "metadata": {
        "id": "MXkCNkyKGBLy"
      },
      "execution_count": null,
      "outputs": []
    },
    {
      "cell_type": "code",
      "source": [
        "a = True\n",
        "b = False\n",
        "c = False\n",
        "d = True\n",
        "\n",
        "a and b or c and d"
      ],
      "metadata": {
        "id": "ipZmTzytGHK-"
      },
      "execution_count": null,
      "outputs": []
    },
    {
      "cell_type": "code",
      "source": [
        "a = True\n",
        "b = False\n",
        "c = False\n",
        "d = True\n",
        "\n",
        "a and not b or c and d\n",
        "(a and (not b)) or (c and d)"
      ],
      "metadata": {
        "id": "4GU5Wp5AGIeA"
      },
      "execution_count": null,
      "outputs": []
    },
    {
      "cell_type": "code",
      "source": [
        "# 단락회로평가\n",
        "a = 'hello'\n",
        "b = ''\n",
        "\n",
        "a or b"
      ],
      "metadata": {
        "id": "Z0LAGWP1GJVF"
      },
      "execution_count": null,
      "outputs": []
    },
    {
      "cell_type": "code",
      "source": [
        "# 단락회로평가\n",
        "a = 'hello'\n",
        "b = 'world'\n",
        "\n",
        "a or b"
      ],
      "metadata": {
        "id": "sCD8swVJGKbe"
      },
      "execution_count": null,
      "outputs": []
    },
    {
      "cell_type": "code",
      "source": [
        "# 단락회로평가\n",
        "a = ''\n",
        "b = 'world'\n",
        "\n",
        "a or b"
      ],
      "metadata": {
        "id": "eu7fDlydGLR_"
      },
      "execution_count": null,
      "outputs": []
    },
    {
      "cell_type": "code",
      "source": [
        "username = ''\n",
        "\n",
        "username = username or '이름을 정하지 않았습니다.'\n",
        "username"
      ],
      "metadata": {
        "id": "9qDKWp1bGMY9"
      },
      "execution_count": null,
      "outputs": []
    },
    {
      "cell_type": "code",
      "source": [
        "username = 'licat'\n",
        "\n",
        "username = username or '이름을 정하지 않았습니다.'\n",
        "username"
      ],
      "metadata": {
        "id": "1qcX66BBGNlP"
      },
      "execution_count": null,
      "outputs": []
    },
    {
      "cell_type": "code",
      "source": [
        "# result = functionA() or functionB()\n",
        "# 앞에 값이 None이나 0이 아니라면 뒤에 값으로 result를 만들겠다는 얘기입니다."
      ],
      "metadata": {
        "id": "h8Rw7WUrGOs2"
      },
      "execution_count": null,
      "outputs": []
    },
    {
      "cell_type": "code",
      "source": [
        "# 1번 문제\n",
        "x = 3\n",
        "y = 5\n",
        "result = (isinstance(x, int) and isinstance(y, int)) # 여기에 논리연산자를 더 붙여 두 수를 더하는 코드를 만들어보세요.\n",
        "result # 8이 출력되어야 합니다.\n",
        "\n"
      ],
      "metadata": {
        "id": "3wFIGV6VFI-j"
      },
      "execution_count": 22,
      "outputs": []
    },
    {
      "cell_type": "code",
      "source": [
        "x = 3\n",
        "y = 5\n",
        "result = (isinstance(x, int) and isinstance(y, int)) and (x + y)\n",
        "print(result)"
      ],
      "metadata": {
        "colab": {
          "base_uri": "https://localhost:8080/"
        },
        "id": "KisTCuRyT3dv",
        "outputId": "84e9c312-abcf-459c-af76-cb579418c09f"
      },
      "execution_count": 41,
      "outputs": [
        {
          "output_type": "stream",
          "name": "stdout",
          "text": [
            "8\n"
          ]
        }
      ]
    },
    {
      "cell_type": "code",
      "source": [
        "# 2번 문제 다음 출력값은 무엇일까요? 왜 그러한가요?\n",
        "print('hello' < 'hell o')  # 5번째 자리인 o와 공백의 유니코드 값을 비교할때 o의 유니코드값이 우선순위가 더 높습니다.\n",
        "print([10, 20, 30] < [10, 19, 100]) # 리스트에 인덱스를 순서대로 하나씩 확인하는데 두번째 자리를 비교할때 20이 더 큰 숫자기 때문입니다.\n",
        "print(10 % 3.3 == 0.1) # 부동소수점 문제로 근사값(0.10000000000000053)으로 대체 되며, 모든 값에 10을 곱하고 계산 후 다시 나누는 방법으로 해결 할 수 있습니다."
      ],
      "metadata": {
        "colab": {
          "base_uri": "https://localhost:8080/"
        },
        "id": "TsBUrj6eVFMV",
        "outputId": "06b4632a-98d0-4a19-d317-02d6fba25060"
      },
      "execution_count": 38,
      "outputs": [
        {
          "output_type": "stream",
          "name": "stdout",
          "text": [
            "False\n",
            "False\n",
            "False\n"
          ]
        }
      ]
    },
    {
      "cell_type": "code",
      "source": [
        "#문제 3번\n",
        "# 어떤 이메일을 쓰고 있는지 출력하는 코드를 작성해주세요.\n",
        "\n",
        "email2 = 'abc@gmail.com' # gmail\n",
        "email3 = 'abc@naver.com' # naver\n",
        "email4 = 'abc@weniv.co.kr' # weniv\n",
        "email5 = 'li.cat@weniv.co.kr' # weniv\n",
        "\n",
        "emails = [\n",
        "    (email2.split('@')[1].split('.')[0]),\n",
        "    (email3.split('@')[1].split('.')[0]),\n",
        "    (email4.split('@')[1].split('.')[0]),\n",
        "    (email5.split('@')[1].split('.')[0])\n",
        "          ]\n",
        "\n",
        "print(emails)"
      ],
      "metadata": {
        "colab": {
          "base_uri": "https://localhost:8080/"
        },
        "id": "Fpr9FzVqT-bY",
        "outputId": "9df6ea07-6d26-40fc-8a57-129ca5d93972"
      },
      "execution_count": 54,
      "outputs": [
        {
          "output_type": "stream",
          "name": "stdout",
          "text": [
            "['gmail', 'naver', 'weniv', 'weniv']\n"
          ]
        }
      ]
    },
    {
      "cell_type": "code",
      "source": [],
      "metadata": {
        "id": "eYdx__R7a1cr"
      },
      "execution_count": null,
      "outputs": []
    },
    {
      "cell_type": "code",
      "source": [],
      "metadata": {
        "id": "uFmOTs3uZW79"
      },
      "execution_count": null,
      "outputs": []
    },
    {
      "cell_type": "markdown",
      "source": [
        "# in 구문"
      ],
      "metadata": {
        "id": "l0GaMv-uxF2M"
      }
    },
    {
      "cell_type": "code",
      "source": [
        "# is는 is not이고 in은 not in입니다.\n",
        "10 in [10, 20, 30]"
      ],
      "metadata": {
        "colab": {
          "base_uri": "https://localhost:8080/"
        },
        "id": "38CZ9OYexHEg",
        "outputId": "d3cb2c2f-de06-4dc4-d6a5-116f5d7919e8"
      },
      "execution_count": 1,
      "outputs": [
        {
          "output_type": "execute_result",
          "data": {
            "text/plain": [
              "True"
            ]
          },
          "metadata": {},
          "execution_count": 1
        }
      ]
    },
    {
      "cell_type": "code",
      "source": [
        "'h' in 'hello world'"
      ],
      "metadata": {
        "colab": {
          "base_uri": "https://localhost:8080/"
        },
        "id": "AoDdnqJvx7dQ",
        "outputId": "1f39f9fe-bc7d-4a7a-8161-836f642071f4"
      },
      "execution_count": 2,
      "outputs": [
        {
          "output_type": "execute_result",
          "data": {
            "text/plain": [
              "True"
            ]
          },
          "metadata": {},
          "execution_count": 2
        }
      ]
    },
    {
      "cell_type": "code",
      "source": [
        "'world' in 'hello world'"
      ],
      "metadata": {
        "colab": {
          "base_uri": "https://localhost:8080/"
        },
        "id": "KB6n5fAWx_KC",
        "outputId": "555ed502-7e1a-4581-d1b2-3ea004bf7a17"
      },
      "execution_count": 3,
      "outputs": [
        {
          "output_type": "execute_result",
          "data": {
            "text/plain": [
              "True"
            ]
          },
          "metadata": {},
          "execution_count": 3
        }
      ]
    },
    {
      "cell_type": "code",
      "source": [
        "'hell' not in 'hello world'"
      ],
      "metadata": {
        "colab": {
          "base_uri": "https://localhost:8080/"
        },
        "id": "6cRioas5yChu",
        "outputId": "597f6ea4-877d-43f1-ae38-c9f4b0fcd917"
      },
      "execution_count": 4,
      "outputs": [
        {
          "output_type": "execute_result",
          "data": {
            "text/plain": [
              "False"
            ]
          },
          "metadata": {},
          "execution_count": 4
        }
      ]
    },
    {
      "cell_type": "code",
      "source": [
        "a = {'key1': 'value1', 'key2': 'value2'} #딕셔너리\n",
        "b = {10, 10, 20}\n",
        "10 in b # 출력: True\n",
        "{10} in b # 출력: False, 주의\n",
        "{10, 20} in b # 출력: False, 주의\n",
        "\n",
        "'key1' in a # 출력: True\n",
        "'value1' in a # 출력: False\n",
        "('key1', 'key2') in a # 출력: False\n",
        "{'key1':'value1'} in a # error\n",
        "'value1' in a.values()"
      ],
      "metadata": {
        "colab": {
          "base_uri": "https://localhost:8080/"
        },
        "id": "XX5V9zq8yUSl",
        "outputId": "6d331646-a553-4275-964c-01200bbf6be0"
      },
      "execution_count": 6,
      "outputs": [
        {
          "output_type": "execute_result",
          "data": {
            "text/plain": [
              "True"
            ]
          },
          "metadata": {},
          "execution_count": 6
        }
      ]
    },
    {
      "cell_type": "code",
      "source": [],
      "metadata": {
        "id": "CXekp2lWy0jq"
      },
      "execution_count": null,
      "outputs": []
    },
    {
      "cell_type": "markdown",
      "source": [
        "# 연산자 우선순위"
      ],
      "metadata": {
        "id": "j97MHNSlz5ou"
      }
    },
    {
      "cell_type": "code",
      "source": [
        "-2 ** 2"
      ],
      "metadata": {
        "colab": {
          "base_uri": "https://localhost:8080/"
        },
        "id": "DpV-38Mcz7LL",
        "outputId": "54e8a1b8-1ba0-44ae-ed25-294606a37afa"
      },
      "execution_count": 7,
      "outputs": [
        {
          "output_type": "execute_result",
          "data": {
            "text/plain": [
              "-4"
            ]
          },
          "metadata": {},
          "execution_count": 7
        }
      ]
    },
    {
      "cell_type": "code",
      "source": [
        "True * True and True + False"
      ],
      "metadata": {
        "colab": {
          "base_uri": "https://localhost:8080/"
        },
        "id": "JY5QcVqKz9Eu",
        "outputId": "156b22f1-f664-492a-df77-cb509f78920f"
      },
      "execution_count": 8,
      "outputs": [
        {
          "output_type": "execute_result",
          "data": {
            "text/plain": [
              "1"
            ]
          },
          "metadata": {},
          "execution_count": 8
        }
      ]
    },
    {
      "cell_type": "code",
      "source": [
        "# 복합 할당 연산자가 가장 나중입니다.\n",
        "a = 10\n",
        "a *= 10 + 100"
      ],
      "metadata": {
        "id": "5_iTCYRA0ZY_"
      },
      "execution_count": null,
      "outputs": []
    },
    {
      "cell_type": "code",
      "source": [],
      "metadata": {
        "id": "12ImOMkg2-KW"
      },
      "execution_count": null,
      "outputs": []
    },
    {
      "cell_type": "markdown",
      "source": [
        "# 연습문제"
      ],
      "metadata": {
        "id": "dK4GGWpC2_Yu"
      }
    },
    {
      "cell_type": "code",
      "source": [
        "# 배우신 분들\n",
        "# 그리디 알고리즘입니다.\n",
        "# 10000원짜리를 들고가서 1500원짜리 월드콘을 사먹었습니다. 거스름돈을 가장 적게 줄 수 있는 코드를 작성하세요.\n",
        "\n",
        "거스름돈 = 10000 - 1500\n",
        "print(거스름돈 // 5000, '5000원')\n",
        "거스름돈 = 거스름돈 % 5000\n",
        "\n",
        "print(거스름돈 // 1000, '1000원')\n",
        "거스름돈 = 거스름돈 % 1000\n",
        "\n",
        "print(거스름돈 // 500, '500원')\n",
        "거스름돈 = 거스름돈 % 500\n",
        "\n",
        "print(거스름돈 // 100, '100원')\n",
        "거스름돈 = 거스름돈 % 100"
      ],
      "metadata": {
        "id": "QUpg0eMn3AEx"
      },
      "execution_count": null,
      "outputs": []
    },
    {
      "cell_type": "markdown",
      "source": [
        "# 함수"
      ],
      "metadata": {
        "id": "kOb8tvIB3cb_"
      }
    },
    {
      "cell_type": "code",
      "source": [
        "# 들여쓰기\n",
        "def printnum(): #함수의 정의\n",
        "    print('1')\n",
        "    print('2')\n",
        "    print('3')\n",
        "\n",
        "a = printnum() #함수의 호출\n",
        "print(a)"
      ],
      "metadata": {
        "colab": {
          "base_uri": "https://localhost:8080/"
        },
        "id": "OJOCsTB23dD_",
        "outputId": "439f7981-3d16-4172-f13d-be2eb48a9f15"
      },
      "execution_count": 9,
      "outputs": [
        {
          "output_type": "stream",
          "name": "stdout",
          "text": [
            "1\n",
            "2\n",
            "3\n",
            "None\n"
          ]
        }
      ]
    },
    {
      "cell_type": "code",
      "source": [
        "# 들여쓰기\n",
        "def printnum(): #함수의 정의\n",
        "    print('1')\n",
        "    print('2')\n",
        "print('3')\n",
        "dir(printnum())\n"
      ],
      "metadata": {
        "colab": {
          "base_uri": "https://localhost:8080/"
        },
        "id": "Dx4HfJhb6Z73",
        "outputId": "feb3fe49-278f-4a44-fb1d-6ef56c9d572f"
      },
      "execution_count": 12,
      "outputs": [
        {
          "output_type": "stream",
          "name": "stdout",
          "text": [
            "3\n",
            "1\n",
            "2\n"
          ]
        },
        {
          "output_type": "execute_result",
          "data": {
            "text/plain": [
              "['__bool__',\n",
              " '__class__',\n",
              " '__delattr__',\n",
              " '__dir__',\n",
              " '__doc__',\n",
              " '__eq__',\n",
              " '__format__',\n",
              " '__ge__',\n",
              " '__getattribute__',\n",
              " '__gt__',\n",
              " '__hash__',\n",
              " '__init__',\n",
              " '__init_subclass__',\n",
              " '__le__',\n",
              " '__lt__',\n",
              " '__ne__',\n",
              " '__new__',\n",
              " '__reduce__',\n",
              " '__reduce_ex__',\n",
              " '__repr__',\n",
              " '__setattr__',\n",
              " '__sizeof__',\n",
              " '__str__',\n",
              " '__subclasshook__']"
            ]
          },
          "metadata": {},
          "execution_count": 12
        }
      ]
    },
    {
      "cell_type": "code",
      "source": [
        "printnum.__str__()"
      ],
      "metadata": {
        "colab": {
          "base_uri": "https://localhost:8080/",
          "height": 35
        },
        "id": "tIJIgTJp7FI-",
        "outputId": "ca7327db-64fe-4fcf-d430-921d83c4faa5"
      },
      "execution_count": 13,
      "outputs": [
        {
          "output_type": "execute_result",
          "data": {
            "text/plain": [
              "'<function printnum at 0x7feb85708670>'"
            ],
            "application/vnd.google.colaboratory.intrinsic+json": {
              "type": "string"
            }
          },
          "metadata": {},
          "execution_count": 13
        }
      ]
    },
    {
      "cell_type": "code",
      "source": [
        "# 파선아실\n",
        "def function(x, y):\n",
        "    z = x + y\n",
        "    return z\n",
        "print('function(5, 7)=', function(5, 7))"
      ],
      "metadata": {
        "id": "zEhBexjv71ob"
      },
      "execution_count": null,
      "outputs": []
    },
    {
      "cell_type": "code",
      "source": [
        "# 함수 안에 함수\n",
        "def f():\n",
        "    def ff():\n",
        "        return 100\n",
        "    x = ff()\n",
        "    return x\n",
        "\n",
        "f()\n",
        "# ff() # 함수 내부에서 선언한 변수와 함수 내부에서 선언된 함수는 밖에서 호출할 수 없습니다."
      ],
      "metadata": {
        "colab": {
          "base_uri": "https://localhost:8080/"
        },
        "id": "8rhIM2d685nh",
        "outputId": "001e2bcb-e8b5-4fb0-b7a0-028b7f64b87f"
      },
      "execution_count": 14,
      "outputs": [
        {
          "output_type": "execute_result",
          "data": {
            "text/plain": [
              "100"
            ]
          },
          "metadata": {},
          "execution_count": 14
        }
      ]
    },
    {
      "cell_type": "code",
      "source": [
        "# 함수를 아규먼트로 전달\n",
        "def f(a, b):\n",
        "    return a + b\n",
        "\n",
        "def ff(a):\n",
        "    return a(10, 20)\n",
        "\n",
        "ff(f)"
      ],
      "metadata": {
        "colab": {
          "base_uri": "https://localhost:8080/"
        },
        "id": "TA7Kgn8n9ADw",
        "outputId": "333106c9-24f3-4ce3-cdcb-780d1edf8054"
      },
      "execution_count": 20,
      "outputs": [
        {
          "output_type": "execute_result",
          "data": {
            "text/plain": [
              "30"
            ]
          },
          "metadata": {},
          "execution_count": 20
        }
      ]
    },
    {
      "cell_type": "code",
      "source": [],
      "metadata": {
        "id": "W5Vlqev7-WV8"
      },
      "execution_count": null,
      "outputs": []
    },
    {
      "cell_type": "code",
      "source": [
        "# 함수를 미리 만들어 놓고 pass를 넣어두면 에러가 안남\n",
        "# pass를 사용했을 때 나중에 개발 될 것이라는 표시를 해놓는 것과 같습니다.\n",
        "# return 대신 사용하는 이유 글자수도 2자가 더 짧고 타이핑이 빠름.\n",
        "def hit():\n",
        "    pass\n",
        "def move():\n",
        "    pass\n",
        "def heal():\n",
        "    pass # 아무 의미없음"
      ],
      "metadata": {
        "id": "mOaKf3Q0-WG3"
      },
      "execution_count": null,
      "outputs": []
    },
    {
      "cell_type": "code",
      "source": [
        "def f(a, b, c):\n",
        "    print(a, b, c)\n",
        "\n",
        "# f() # error\n",
        "# f(100, 10) # error\n",
        "f(a=100, b=200, c=300)\n",
        "f(c=300, a=100, b=200)"
      ],
      "metadata": {
        "id": "X7DEpaR__uQY"
      },
      "execution_count": null,
      "outputs": []
    },
    {
      "cell_type": "code",
      "source": [
        "# 함수를 return으로 전달"
      ],
      "metadata": {
        "id": "cmm3U6mz9ATV"
      },
      "execution_count": null,
      "outputs": []
    },
    {
      "cell_type": "code",
      "source": [
        "def f(a=10, b=20, c): # 이 코드는 가능하지 않습니다.\n",
        "    print(a, b, c)\n",
        "\n",
        "def f(a, b=20, c=30): # 이 코드는 가능합니다.\n",
        "    print(a, b, c)"
      ],
      "metadata": {
        "id": "2iuHDoFABHIO"
      },
      "execution_count": null,
      "outputs": []
    },
    {
      "cell_type": "code",
      "source": [
        "def f(a=10, b=20, c): # c만 default value를 안주게 되면 error, 순서대로 안주어야 합니다.\n",
        "    print(a, b, c)\n",
        "\n",
        "# f() # error\n",
        "# f(100, 10) # error\n",
        "# f(a=100, b=200, c=300) # error\n",
        "# f(c=300, a=100, b=200) # error\n",
        "# f(c=300) # error"
      ],
      "metadata": {
        "colab": {
          "base_uri": "https://localhost:8080/",
          "height": 147
        },
        "id": "VHNkgPkFBPKk",
        "outputId": "c3296868-b0dd-4eab-f122-d46dd8cc2ea3"
      },
      "execution_count": 21,
      "outputs": [
        {
          "output_type": "error",
          "ename": "SyntaxError",
          "evalue": "ignored",
          "traceback": [
            "\u001b[0;36m  File \u001b[0;32m\"<ipython-input-21-e97bd518cb59>\"\u001b[0;36m, line \u001b[0;32m1\u001b[0m\n\u001b[0;31m    def f(a=10, b=20, c): # c만 default value를 안주게 되면 error, 순서대로 안주어야 합니다.\u001b[0m\n\u001b[0m                      ^\u001b[0m\n\u001b[0;31mSyntaxError\u001b[0m\u001b[0;31m:\u001b[0m non-default argument follows default argument\n"
          ]
        }
      ]
    },
    {
      "cell_type": "code",
      "source": [
        "def f(a, b=20, c=30): # 이 코드는 가능합니다.\n",
        "    print(a, b, c)\n",
        "\n",
        "# f() # error\n",
        "# f(100, 10)\n",
        "f(a=100, b=200, c=300)\n",
        "# f(c=300, a=100, b=200)\n",
        "# f(c=300) # error"
      ],
      "metadata": {
        "colab": {
          "base_uri": "https://localhost:8080/"
        },
        "id": "eGZOKX6MBW8f",
        "outputId": "e61c3a12-d8a8-494f-c85e-998baa29b90a"
      },
      "execution_count": 22,
      "outputs": [
        {
          "output_type": "stream",
          "name": "stdout",
          "text": [
            "100 200 300\n"
          ]
        }
      ]
    },
    {
      "cell_type": "code",
      "source": [
        "# a와 b를 더한 값과 a와 b를 뺀 값을 곱하는 함수를 만들어주세요.\n",
        "\n",
        "def f(a=0, b=0):\n",
        "    print((a+b)*(a-b))\n",
        "f(a=2, b=3)"
      ],
      "metadata": {
        "colab": {
          "base_uri": "https://localhost:8080/"
        },
        "id": "myA1zf0rBs_X",
        "outputId": "3341174a-6c81-4827-a508-2fc4b2716c30"
      },
      "execution_count": 23,
      "outputs": [
        {
          "output_type": "stream",
          "name": "stdout",
          "text": [
            "-5\n"
          ]
        }
      ]
    },
    {
      "cell_type": "code",
      "source": [
        "# a와 b를 더한 값과 a와 b를 뺀 값을 곱하는 함수를 만들어주세요.\n",
        "a = 2\n",
        "b = 3\n",
        "# (2 + 3) * (2 - 3) = -5가 출력이 되어야 합니다.\n",
        "# 조건1: a가 입력되지 않으면 0이 입력됩니다.\n",
        "# 조건2: b가 입력되지 않으면 0이 입력됩니다.\n",
        "\n",
        "def multiple (x=0, y=0):\n",
        "    return x * y\n",
        "\n",
        "def plus (x=0, y=0):\n",
        "    return x + y\n",
        "\n",
        "def minus (x=0, y=0):\n",
        "    return x - y\n",
        "\n",
        "multiple(plus(a,b), minus(a,b))"
      ],
      "metadata": {
        "id": "esU1IebqCutk"
      },
      "execution_count": null,
      "outputs": []
    },
    {
      "cell_type": "markdown",
      "source": [
        "## 지역변수와 전역변수"
      ],
      "metadata": {
        "id": "oNLqCxIpD9db"
      }
    },
    {
      "cell_type": "code",
      "source": [
        "# 지역변수와 전역변수\n",
        "def f():\n",
        "    inner_value = 100\n",
        "\n",
        "print(inner_value)"
      ],
      "metadata": {
        "colab": {
          "base_uri": "https://localhost:8080/",
          "height": 221
        },
        "id": "bbwVcZAJEBwl",
        "outputId": "1a1660fd-6b38-4fe8-add4-e10a2a4b59c8"
      },
      "execution_count": 24,
      "outputs": [
        {
          "output_type": "error",
          "ename": "NameError",
          "evalue": "ignored",
          "traceback": [
            "\u001b[0;31m---------------------------------------------------------------------------\u001b[0m",
            "\u001b[0;31mNameError\u001b[0m                                 Traceback (most recent call last)",
            "\u001b[0;32m<ipython-input-24-e101cb7a8191>\u001b[0m in \u001b[0;36m<cell line: 5>\u001b[0;34m()\u001b[0m\n\u001b[1;32m      3\u001b[0m     \u001b[0minner_value\u001b[0m \u001b[0;34m=\u001b[0m \u001b[0;36m100\u001b[0m\u001b[0;34m\u001b[0m\u001b[0;34m\u001b[0m\u001b[0m\n\u001b[1;32m      4\u001b[0m \u001b[0;34m\u001b[0m\u001b[0m\n\u001b[0;32m----> 5\u001b[0;31m \u001b[0mprint\u001b[0m\u001b[0;34m(\u001b[0m\u001b[0minner_value\u001b[0m\u001b[0;34m)\u001b[0m\u001b[0;34m\u001b[0m\u001b[0;34m\u001b[0m\u001b[0m\n\u001b[0m",
            "\u001b[0;31mNameError\u001b[0m: name 'inner_value' is not defined"
          ]
        }
      ]
    },
    {
      "cell_type": "code",
      "source": [
        "x = 100\n",
        "def f():\n",
        "    print(x)\n",
        "\n",
        "f()"
      ],
      "metadata": {
        "colab": {
          "base_uri": "https://localhost:8080/"
        },
        "id": "6bYbw6pPEKHL",
        "outputId": "5effc141-5ee8-417f-8d47-0700dde28d8f"
      },
      "execution_count": 26,
      "outputs": [
        {
          "output_type": "stream",
          "name": "stdout",
          "text": [
            "100\n"
          ]
        }
      ]
    },
    {
      "cell_type": "code",
      "source": [
        "x = 100\n",
        "def f():\n",
        "    y = x + x\n",
        "    return y\n",
        "\n",
        "f()"
      ],
      "metadata": {
        "colab": {
          "base_uri": "https://localhost:8080/"
        },
        "id": "wSyCPyQbEMYR",
        "outputId": "f3647bae-6dc9-4816-e38c-3e7d389663c3"
      },
      "execution_count": 27,
      "outputs": [
        {
          "output_type": "execute_result",
          "data": {
            "text/plain": [
              "200"
            ]
          },
          "metadata": {},
          "execution_count": 27
        }
      ]
    },
    {
      "cell_type": "code",
      "source": [
        "x = 100\n",
        "def f():\n",
        "    x = 200\n",
        "    return x\n",
        "\n",
        "f()"
      ],
      "metadata": {
        "colab": {
          "base_uri": "https://localhost:8080/"
        },
        "id": "ayWb9aydEcHW",
        "outputId": "d49a9e99-0a45-48d8-99a7-ef9b3419e91f"
      },
      "execution_count": 28,
      "outputs": [
        {
          "output_type": "execute_result",
          "data": {
            "text/plain": [
              "200"
            ]
          },
          "metadata": {},
          "execution_count": 28
        }
      ]
    },
    {
      "cell_type": "code",
      "source": [
        "# global 사용전\n",
        "a = 100\n",
        "def f():\n",
        "    global a\n",
        "    a = a + 1\n",
        "f()"
      ],
      "metadata": {
        "id": "GX2yYG8TElPF"
      },
      "execution_count": 30,
      "outputs": []
    },
    {
      "cell_type": "code",
      "source": [
        "# global을 하면 함수가 얼만큼 중첩되어 있건 최상단에 있는 a를 바라봅니다.\n",
        "\n",
        "a = 10\n",
        "def f():\n",
        "    a = 100\n",
        "    print(a)\n",
        "    def ff():\n",
        "        a = 1000\n",
        "        print(a)\n",
        "        def fff():\n",
        "            # global a\n",
        "            nonlocal a # nolocal을 사용하면 바로 위 변수를 사용함\n",
        "            # a = 10000\n",
        "            print(a)\n",
        "        fff()\n",
        "    ff()\n",
        "f()\n",
        "print(a)"
      ],
      "metadata": {
        "colab": {
          "base_uri": "https://localhost:8080/"
        },
        "id": "bAaVSWCLFXSr",
        "outputId": "f0ed5271-2f61-4f9a-b914-2532be9d18c7"
      },
      "execution_count": 31,
      "outputs": [
        {
          "output_type": "stream",
          "name": "stdout",
          "text": [
            "100\n",
            "1000\n",
            "1000\n",
            "10\n"
          ]
        }
      ]
    },
    {
      "cell_type": "code",
      "source": [
        "# nonlocal\n",
        "a = 10\n",
        "def f():\n",
        "    a = 100\n",
        "    print(f'f a: {a}')\n",
        "    def ff():\n",
        "        a = 1000\n",
        "        print(f'ff a: {a}')\n",
        "        def fff():\n",
        "            nonlocal a\n",
        "            a = 100\n",
        "            print(f'fff a: {a}')\n",
        "        fff()\n",
        "        print(f'ff a: {a}')\n",
        "    ff()\n",
        "f()\n",
        "print(f'global a: {a}')"
      ],
      "metadata": {
        "id": "yAIt_5a9JpYn"
      },
      "execution_count": null,
      "outputs": []
    },
    {
      "cell_type": "markdown",
      "source": [
        "## 재귀함수"
      ],
      "metadata": {
        "id": "321jHijQKtvI"
      }
    },
    {
      "cell_type": "code",
      "source": [
        "#sys.setrecursionlimit -> 제한을 늘릴 수 있음\n",
        "def 숫자출력(count):\n",
        "    if count > 100:\n",
        "        return\n",
        "    print(count)\n",
        "    return 숫자출력(count+1) #값을 1부터 반복횟수 까지의 값을 출력\n",
        "\n",
        "숫자출력(1)"
      ],
      "metadata": {
        "colab": {
          "base_uri": "https://localhost:8080/"
        },
        "id": "xotKjXXvKrsk",
        "outputId": "7c4bdf8e-252a-4573-d934-b230e784d101"
      },
      "execution_count": 32,
      "outputs": [
        {
          "output_type": "stream",
          "name": "stdout",
          "text": [
            "1\n",
            "2\n",
            "3\n",
            "4\n",
            "5\n",
            "6\n",
            "7\n",
            "8\n",
            "9\n",
            "10\n",
            "11\n",
            "12\n",
            "13\n",
            "14\n",
            "15\n",
            "16\n",
            "17\n",
            "18\n",
            "19\n",
            "20\n",
            "21\n",
            "22\n",
            "23\n",
            "24\n",
            "25\n",
            "26\n",
            "27\n",
            "28\n",
            "29\n",
            "30\n",
            "31\n",
            "32\n",
            "33\n",
            "34\n",
            "35\n",
            "36\n",
            "37\n",
            "38\n",
            "39\n",
            "40\n",
            "41\n",
            "42\n",
            "43\n",
            "44\n",
            "45\n",
            "46\n",
            "47\n",
            "48\n",
            "49\n",
            "50\n",
            "51\n",
            "52\n",
            "53\n",
            "54\n",
            "55\n",
            "56\n",
            "57\n",
            "58\n",
            "59\n",
            "60\n",
            "61\n",
            "62\n",
            "63\n",
            "64\n",
            "65\n",
            "66\n",
            "67\n",
            "68\n",
            "69\n",
            "70\n",
            "71\n",
            "72\n",
            "73\n",
            "74\n",
            "75\n",
            "76\n",
            "77\n",
            "78\n",
            "79\n",
            "80\n",
            "81\n",
            "82\n",
            "83\n",
            "84\n",
            "85\n",
            "86\n",
            "87\n",
            "88\n",
            "89\n",
            "90\n",
            "91\n",
            "92\n",
            "93\n",
            "94\n",
            "95\n",
            "96\n",
            "97\n",
            "98\n",
            "99\n",
            "100\n"
          ]
        }
      ]
    },
    {
      "cell_type": "code",
      "source": [
        "# 재귀함수는 사용하지 마세요.\n",
        "# 위험하고 효율이 좋지 않습니다.\n",
        "# 반복문 <-> 서로 상호 호환이 가능합니다.\n",
        "# 반복문 사용하세요!"
      ],
      "metadata": {
        "id": "AaWj_4K0K3KA"
      },
      "execution_count": null,
      "outputs": []
    },
    {
      "cell_type": "code",
      "source": [
        "# 상식 수준에서 다음 재귀는 외우셨으면 좋겠습니다.\n",
        "# 1.팩토리얼\n",
        "# 2.문자열 뒤집기"
      ],
      "metadata": {
        "id": "c5r5fsD5LPZS"
      },
      "execution_count": 33,
      "outputs": []
    },
    {
      "cell_type": "code",
      "source": [
        "def factorial(n):\n",
        "    if n == 1:\n",
        "        return 1\n",
        "    return n * factorial(n-1)\n",
        "\n",
        "factorial(5)"
      ],
      "metadata": {
        "colab": {
          "base_uri": "https://localhost:8080/"
        },
        "id": "m3mude9_Lgxg",
        "outputId": "e9892c4f-d25d-4fb2-b73d-e9b9d669223e"
      },
      "execution_count": 34,
      "outputs": [
        {
          "output_type": "execute_result",
          "data": {
            "text/plain": [
              "120"
            ]
          },
          "metadata": {},
          "execution_count": 34
        }
      ]
    },
    {
      "cell_type": "code",
      "source": [
        "def reversed_str(s):\n",
        "    if len(s) <= 1:\n",
        "        return s\n",
        "    return reversed_str(s[1:]) + s[0]\n",
        "\n",
        "reversed_str('hello')\n",
        "\n",
        "'''\n",
        "함수 호출               return\n",
        "reversed_str(n)         reversed_str(s[1:]) + s[0]\n",
        "reversed_str('hello')   reversed_str('ello') + h\n",
        "reversed_str('ello')    reversed_str('llo') + e\n",
        "reversed_str('llo')     reversed_str('lo') + l\n",
        "reversed_str('lo')      reversed_str('o') + l\n",
        "reversed_str(o)         'o'\n",
        "'''"
      ],
      "metadata": {
        "id": "VcvVHPCdMiAh"
      },
      "execution_count": null,
      "outputs": []
    },
    {
      "cell_type": "code",
      "source": [
        "# 문자열 뒤집기\n",
        "s = 'hello'\n",
        "result = ''\n",
        "\n",
        "for i in s:\n",
        "    result = i + result\n",
        "    print(result)\n",
        "\n",
        "result"
      ],
      "metadata": {
        "colab": {
          "base_uri": "https://localhost:8080/",
          "height": 127
        },
        "id": "8i8Kem90SQK0",
        "outputId": "d82ec8c8-8cb7-48f1-a67c-90803adae997"
      },
      "execution_count": 35,
      "outputs": [
        {
          "output_type": "stream",
          "name": "stdout",
          "text": [
            "h\n",
            "eh\n",
            "leh\n",
            "lleh\n",
            "olleh\n"
          ]
        },
        {
          "output_type": "execute_result",
          "data": {
            "text/plain": [
              "'olleh'"
            ],
            "application/vnd.google.colaboratory.intrinsic+json": {
              "type": "string"
            }
          },
          "metadata": {},
          "execution_count": 35
        }
      ]
    },
    {
      "cell_type": "markdown",
      "source": [
        "# 함수 나아가기"
      ],
      "metadata": {
        "id": "Q6Qd7E87Sq3w"
      }
    },
    {
      "cell_type": "code",
      "source": [
        "def f():\n",
        "    x = 'hello world'\\\n",
        "        .upper()\\\n",
        "        .replace(' ', '')\\\n",
        "        .lower()\n",
        "    return x\n",
        "f()"
      ],
      "metadata": {
        "colab": {
          "base_uri": "https://localhost:8080/",
          "height": 35
        },
        "id": "KRYNyAbNm511",
        "outputId": "611c09e0-9621-4b18-b6ab-49de94e305e2"
      },
      "execution_count": 44,
      "outputs": [
        {
          "output_type": "execute_result",
          "data": {
            "text/plain": [
              "'helloworld'"
            ],
            "application/vnd.google.colaboratory.intrinsic+json": {
              "type": "string"
            }
          },
          "metadata": {},
          "execution_count": 44
        }
      ]
    },
    {
      "cell_type": "code",
      "source": [
        "# 여러개의 값 반환하기\n",
        "\n",
        "def f():\n",
        "    a = 10\n",
        "    b = 20\n",
        "    c = 30\n",
        "    return a, b, c\n",
        "\n",
        "f()"
      ],
      "metadata": {
        "colab": {
          "base_uri": "https://localhost:8080/"
        },
        "id": "bsMLG38VSgwe",
        "outputId": "25ebeddd-1b02-4e28-f4f5-8591bf4a560b"
      },
      "execution_count": 42,
      "outputs": [
        {
          "output_type": "execute_result",
          "data": {
            "text/plain": [
              "(10, 20, 30)"
            ]
          },
          "metadata": {},
          "execution_count": 42
        }
      ]
    },
    {
      "cell_type": "code",
      "source": [
        "# None은 출력되지 않음.\n",
        "a = None\n",
        "a"
      ],
      "metadata": {
        "id": "VG3u9u56SpVT"
      },
      "execution_count": 41,
      "outputs": []
    },
    {
      "cell_type": "code",
      "source": [
        "print() # built-in function\n",
        "\n",
        "def f(): # function\n",
        "    pass\n",
        "\n",
        "# 여기서 print와 f는 변수입니다.\n",
        "# 변수는 가리키는 것입니다.\n",
        "leehojun = print\n",
        "leehojun('hello world')"
      ],
      "metadata": {
        "id": "z1f0ERCfS7ol"
      },
      "execution_count": null,
      "outputs": []
    },
    {
      "cell_type": "code",
      "source": [
        "# 변수 관리하는 방법\n",
        "x = 10\n",
        "y = 20\n",
        "l = [x, y]\n",
        "\n",
        "def add(x, y):\n",
        "    return x + y\n",
        "\n",
        "def sub(x, y):\n",
        "    return x + y\n",
        "\n",
        "ll = [add, sub]\n",
        "ll[0](10, 20) # add(10, 20)과 같습니다."
      ],
      "metadata": {
        "colab": {
          "base_uri": "https://localhost:8080/"
        },
        "id": "QSWeCKGMntV9",
        "outputId": "3726c3f7-8835-4bc4-d677-98da0d50dcdb"
      },
      "execution_count": 45,
      "outputs": [
        {
          "output_type": "execute_result",
          "data": {
            "text/plain": [
              "30"
            ]
          },
          "metadata": {},
          "execution_count": 45
        }
      ]
    },
    {
      "cell_type": "code",
      "source": [
        "# 매우 중요!\n",
        "add2 = lambda x, y:x + y\n",
        "sub2 = lambda x, y:x + y\n",
        "add2(10, 20)"
      ],
      "metadata": {
        "colab": {
          "base_uri": "https://localhost:8080/"
        },
        "id": "IVkYWYFfoCCM",
        "outputId": "28ef246e-26be-4726-c2b1-e1d8ea2c511d"
      },
      "execution_count": 46,
      "outputs": [
        {
          "output_type": "execute_result",
          "data": {
            "text/plain": [
              "30"
            ]
          },
          "metadata": {},
          "execution_count": 46
        }
      ]
    },
    {
      "cell_type": "code",
      "source": [
        "x = map(int, '1234')\n",
        "\n",
        "for i in x:\n",
        "    print(i)\n",
        "\n",
        "for i in x: # 더이상 순회가 안됩니다! 이 이유에 대해서는 뒤에서 진행하겠습니다.\n",
        "    print(i)"
      ],
      "metadata": {
        "id": "gC2ZtK5hoYlG"
      },
      "execution_count": null,
      "outputs": []
    },
    {
      "cell_type": "code",
      "source": [
        "x = map(int, '1234')\n",
        "# 1번째 수행 int('1')\n",
        "# 2번째 수행 int('2')\n",
        "# 3번째 수행 int('3')\n",
        "# 4번째 수행 int('4')"
      ],
      "metadata": {
        "id": "DtKlo08GqW1c"
      },
      "execution_count": null,
      "outputs": []
    },
    {
      "cell_type": "code",
      "source": [
        "list(map(int, '1234'))"
      ],
      "metadata": {
        "id": "fZj3Orf1qdC4"
      },
      "execution_count": null,
      "outputs": []
    },
    {
      "cell_type": "code",
      "source": [
        "def f(x):\n",
        "    return x * 2\n",
        "\n",
        "list(map(f, '1234'))"
      ],
      "metadata": {
        "id": "I9joS4_kqex4"
      },
      "execution_count": null,
      "outputs": []
    },
    {
      "cell_type": "code",
      "source": [
        "list(map(lambda x:x*2, '1234'))"
      ],
      "metadata": {
        "id": "9XTmE-MNqhYY"
      },
      "execution_count": null,
      "outputs": []
    },
    {
      "cell_type": "code",
      "source": [
        "# 10진수로 유니코드표에서 찾아 대응되는 값을 줍니다.\n",
        "chr(65)\n",
        "chr(97)\n",
        "chr(54616)"
      ],
      "metadata": {
        "colab": {
          "base_uri": "https://localhost:8080/",
          "height": 35
        },
        "id": "OkrOd7KuteWh",
        "outputId": "958f63ac-1e2e-494c-acd5-dae164054873"
      },
      "execution_count": 49,
      "outputs": [
        {
          "output_type": "execute_result",
          "data": {
            "text/plain": [
              "'하'"
            ],
            "application/vnd.google.colaboratory.intrinsic+json": {
              "type": "string"
            }
          },
          "metadata": {},
          "execution_count": 49
        }
      ]
    },
    {
      "cell_type": "code",
      "source": [
        "ord('a')\n",
        "ord('하')"
      ],
      "metadata": {
        "colab": {
          "base_uri": "https://localhost:8080/"
        },
        "id": "dIoFOu_xtfj7",
        "outputId": "0670a74a-c95a-473b-c3f7-6918f489a9b0"
      },
      "execution_count": 50,
      "outputs": [
        {
          "output_type": "execute_result",
          "data": {
            "text/plain": [
              "54616"
            ]
          },
          "metadata": {},
          "execution_count": 50
        }
      ]
    },
    {
      "cell_type": "code",
      "source": [
        "int('D558', 16)"
      ],
      "metadata": {
        "colab": {
          "base_uri": "https://localhost:8080/"
        },
        "id": "CndDXifYuBoI",
        "outputId": "9dcbca1c-f0fa-427a-96fd-12774eb9f748"
      },
      "execution_count": 56,
      "outputs": [
        {
          "output_type": "execute_result",
          "data": {
            "text/plain": [
              "54616"
            ]
          },
          "metadata": {},
          "execution_count": 56
        }
      ]
    },
    {
      "cell_type": "code",
      "source": [
        "map(lambda x: x**2, [1, 2, 3, 4]) # 계산 되기 전"
      ],
      "metadata": {
        "colab": {
          "base_uri": "https://localhost:8080/"
        },
        "id": "t6MHQ7qxuO1i",
        "outputId": "d900dae7-2375-49e9-ed2e-a02161024dc9"
      },
      "execution_count": 57,
      "outputs": [
        {
          "output_type": "execute_result",
          "data": {
            "text/plain": [
              "<map at 0x7feb67b6e350>"
            ]
          },
          "metadata": {},
          "execution_count": 57
        }
      ]
    },
    {
      "cell_type": "code",
      "source": [
        "list(map(lambda x: x**2, [1, 2, 3, 4])) # 계산 된 후"
      ],
      "metadata": {
        "colab": {
          "base_uri": "https://localhost:8080/"
        },
        "id": "bukf9j2axE_z",
        "outputId": "b1639f83-1793-4a2b-b673-6b4145b763fb"
      },
      "execution_count": 58,
      "outputs": [
        {
          "output_type": "execute_result",
          "data": {
            "text/plain": [
              "[1, 4, 9, 16]"
            ]
          },
          "metadata": {},
          "execution_count": 58
        }
      ]
    },
    {
      "cell_type": "code",
      "source": [
        "# 람다 사용\n",
        "list(filter(lambda x: x>10, [1, 2, 11, 12, 9, 6, 13]))"
      ],
      "metadata": {
        "colab": {
          "base_uri": "https://localhost:8080/"
        },
        "id": "jXtdy4fUxQm7",
        "outputId": "2e7d282f-cfac-49c9-8c4d-18d33a3318d4"
      },
      "execution_count": 60,
      "outputs": [
        {
          "output_type": "execute_result",
          "data": {
            "text/plain": [
              "[11, 12, 13]"
            ]
          },
          "metadata": {},
          "execution_count": 60
        }
      ]
    },
    {
      "cell_type": "code",
      "source": [
        "# 함수 사용\n",
        "def filter_function(x):\n",
        "    return x > 10\n",
        "\n",
        "list(filter(filter_function, [1, 2, 11, 12, 9, 6, 13]))"
      ],
      "metadata": {
        "colab": {
          "base_uri": "https://localhost:8080/"
        },
        "id": "z342i_rKxcIs",
        "outputId": "7af5527a-7834-4f39-8c85-eabe6d69bda0"
      },
      "execution_count": 61,
      "outputs": [
        {
          "output_type": "execute_result",
          "data": {
            "text/plain": [
              "[11, 12, 13]"
            ]
          },
          "metadata": {},
          "execution_count": 61
        }
      ]
    },
    {
      "cell_type": "code",
      "source": [
        "list(zip('abc', '123'))"
      ],
      "metadata": {
        "colab": {
          "base_uri": "https://localhost:8080/"
        },
        "id": "IBK7XidrxtFH",
        "outputId": "a874046b-b4f8-4c36-f928-1ca0280099a6"
      },
      "execution_count": 62,
      "outputs": [
        {
          "output_type": "execute_result",
          "data": {
            "text/plain": [
              "[('a', '1'), ('b', '2'), ('c', '3')]"
            ]
          },
          "metadata": {},
          "execution_count": 62
        }
      ]
    },
    {
      "cell_type": "code",
      "source": [
        "# 매핑되는곳 까지만 출력됨\n",
        "list(zip('abc', '1234567'))"
      ],
      "metadata": {
        "colab": {
          "base_uri": "https://localhost:8080/"
        },
        "id": "JwYuDRklyKm3",
        "outputId": "435c7b5a-376d-456d-a3d6-b4389d91c055"
      },
      "execution_count": 63,
      "outputs": [
        {
          "output_type": "execute_result",
          "data": {
            "text/plain": [
              "[('a', '1'), ('b', '2'), ('c', '3')]"
            ]
          },
          "metadata": {},
          "execution_count": 63
        }
      ]
    },
    {
      "cell_type": "code",
      "source": [
        "# zip은 좌표계에서 자주 응용됩니다.\n",
        "# https://codingdojang.com/scode/408?answer_mode=hide\n",
        "\n",
        "s = [1, 3, 4, 8, 13, 17, 20]\n",
        "list(zip(s, s[1:]))"
      ],
      "metadata": {
        "colab": {
          "base_uri": "https://localhost:8080/"
        },
        "id": "Da46a24JyWeq",
        "outputId": "594f13b1-2a14-40fc-f317-e9c3e4b7eeca"
      },
      "execution_count": 66,
      "outputs": [
        {
          "output_type": "execute_result",
          "data": {
            "text/plain": [
              "[(1, 3), (3, 4), (4, 8), (8, 13), (13, 17), (17, 20)]"
            ]
          },
          "metadata": {},
          "execution_count": 66
        }
      ]
    },
    {
      "cell_type": "code",
      "source": [
        "# sorted는 지금 단계에서 하지 않아요. 바로 뒤에 있으니 지금 이해하려 하지 마세요.\n",
        "# 지금은 zip에 집중해주세요.\n",
        "sorted(zip(s, s[1:]), key=lambda x:x[1]-x[0])\n",
        "# sorted(zip(s, s[1:]), key=lambda x:x[1]-x[0])[0] # 정답 코드"
      ],
      "metadata": {
        "id": "TXD3DmD9y-Po"
      },
      "execution_count": null,
      "outputs": []
    },
    {
      "cell_type": "code",
      "source": [
        "# 자바스크립트에서 zip 만들기\n",
        "# function zip(a, b){\n",
        "#     return a.map((v, i) => [v, b[i]])\n",
        "# }"
      ],
      "metadata": {
        "id": "Ds1sLmSaz9g8"
      },
      "execution_count": null,
      "outputs": []
    },
    {
      "cell_type": "code",
      "source": [
        "format(100000000, ',')"
      ],
      "metadata": {
        "colab": {
          "base_uri": "https://localhost:8080/",
          "height": 35
        },
        "id": "kndJczDA0Hcc",
        "outputId": "906478db-3c2d-4aad-959b-1b4f467fe49c"
      },
      "execution_count": 71,
      "outputs": [
        {
          "output_type": "execute_result",
          "data": {
            "text/plain": [
              "'100,000,000'"
            ],
            "application/vnd.google.colaboratory.intrinsic+json": {
              "type": "string"
            }
          },
          "metadata": {},
          "execution_count": 71
        }
      ]
    },
    {
      "cell_type": "code",
      "source": [
        "len('hello world')"
      ],
      "metadata": {
        "colab": {
          "base_uri": "https://localhost:8080/"
        },
        "id": "9jw-6BHv0Mde",
        "outputId": "ba9f4e8f-f874-4c37-f7a0-9b36882faada"
      },
      "execution_count": 72,
      "outputs": [
        {
          "output_type": "execute_result",
          "data": {
            "text/plain": [
              "11"
            ]
          },
          "metadata": {},
          "execution_count": 72
        }
      ]
    },
    {
      "cell_type": "code",
      "source": [
        "max(1, 2)"
      ],
      "metadata": {
        "colab": {
          "base_uri": "https://localhost:8080/"
        },
        "id": "cvbKLz7T0WpV",
        "outputId": "1ee5e416-5138-4387-9309-5eb8469b30f4"
      },
      "execution_count": 73,
      "outputs": [
        {
          "output_type": "execute_result",
          "data": {
            "text/plain": [
              "2"
            ]
          },
          "metadata": {},
          "execution_count": 73
        }
      ]
    },
    {
      "cell_type": "code",
      "source": [
        "min({1, 2})"
      ],
      "metadata": {
        "colab": {
          "base_uri": "https://localhost:8080/"
        },
        "id": "z5XCbLti0Y1j",
        "outputId": "0f6de4f9-600e-481c-d4e4-07698afd5572"
      },
      "execution_count": 75,
      "outputs": [
        {
          "output_type": "execute_result",
          "data": {
            "text/plain": [
              "1"
            ]
          },
          "metadata": {},
          "execution_count": 75
        }
      ]
    },
    {
      "cell_type": "code",
      "source": [
        "sum([1, 2, 3, 4, 5])"
      ],
      "metadata": {
        "colab": {
          "base_uri": "https://localhost:8080/"
        },
        "id": "hJZDSMM_0aRi",
        "outputId": "24d022ef-dfec-4f68-c9db-61fff99c3344"
      },
      "execution_count": 78,
      "outputs": [
        {
          "output_type": "execute_result",
          "data": {
            "text/plain": [
              "15"
            ]
          },
          "metadata": {},
          "execution_count": 78
        }
      ]
    },
    {
      "cell_type": "code",
      "source": [
        "class Charactor:\n",
        "    def __repr__(self):\n",
        "        return 'hello'\n",
        "    def __str__(self):\n",
        "        return 'world'\n",
        "\n",
        "hero = Charactor()\n",
        "print(hero)\n",
        "hero"
      ],
      "metadata": {
        "colab": {
          "base_uri": "https://localhost:8080/"
        },
        "id": "kpNjaVNZ0giL",
        "outputId": "388d8abb-a650-420f-edb5-371807e1a55c"
      },
      "execution_count": 82,
      "outputs": [
        {
          "output_type": "stream",
          "name": "stdout",
          "text": [
            "world\n"
          ]
        },
        {
          "output_type": "execute_result",
          "data": {
            "text/plain": [
              "hello"
            ]
          },
          "metadata": {},
          "execution_count": 82
        }
      ]
    },
    {
      "cell_type": "code",
      "source": [
        "repr(hero)"
      ],
      "metadata": {
        "colab": {
          "base_uri": "https://localhost:8080/",
          "height": 35
        },
        "id": "7rM2RsCY15VR",
        "outputId": "afe80b38-c743-459f-f6aa-91128109956e"
      },
      "execution_count": 83,
      "outputs": [
        {
          "output_type": "execute_result",
          "data": {
            "text/plain": [
              "'hello'"
            ],
            "application/vnd.google.colaboratory.intrinsic+json": {
              "type": "string"
            }
          },
          "metadata": {},
          "execution_count": 83
        }
      ]
    },
    {
      "cell_type": "code",
      "source": [
        "가수 = ['뉴진스', '르세라핌', '에스파', '아이브']\n",
        "list(enumerate(가수, 1))\n",
        "\n",
        "for i, j in enumerate(가수, 1):\n",
        "    print(i, j)"
      ],
      "metadata": {
        "colab": {
          "base_uri": "https://localhost:8080/"
        },
        "id": "7yMVopxt2BwD",
        "outputId": "12f2a5b2-a9d7-4678-c287-40307ac68847"
      },
      "execution_count": 87,
      "outputs": [
        {
          "output_type": "stream",
          "name": "stdout",
          "text": [
            "1 뉴진스\n",
            "2 르세라핌\n",
            "3 에스파\n",
            "4 아이브\n"
          ]
        }
      ]
    },
    {
      "cell_type": "code",
      "source": [
        "type(print)"
      ],
      "metadata": {
        "colab": {
          "base_uri": "https://localhost:8080/"
        },
        "id": "z9FG_Ef32g1t",
        "outputId": "13714d9f-dd10-4714-8997-453c48837e71"
      },
      "execution_count": 88,
      "outputs": [
        {
          "output_type": "execute_result",
          "data": {
            "text/plain": [
              "builtin_function_or_method"
            ]
          },
          "metadata": {},
          "execution_count": 88
        }
      ]
    },
    {
      "cell_type": "code",
      "source": [
        "type(enumerate)"
      ],
      "metadata": {
        "colab": {
          "base_uri": "https://localhost:8080/"
        },
        "id": "0j8I53dG3FHL",
        "outputId": "7d4f711f-2f36-4cb5-9a51-e80d3cc29bca"
      },
      "execution_count": 90,
      "outputs": [
        {
          "output_type": "execute_result",
          "data": {
            "text/plain": [
              "type"
            ]
          },
          "metadata": {},
          "execution_count": 90
        }
      ]
    },
    {
      "cell_type": "code",
      "source": [
        "type(max)"
      ],
      "metadata": {
        "colab": {
          "base_uri": "https://localhost:8080/"
        },
        "id": "8xzzZvq93Hwl",
        "outputId": "70e0f465-e88f-47e5-9a33-503fd9b4b936"
      },
      "execution_count": 91,
      "outputs": [
        {
          "output_type": "execute_result",
          "data": {
            "text/plain": [
              "builtin_function_or_method"
            ]
          },
          "metadata": {},
          "execution_count": 91
        }
      ]
    },
    {
      "cell_type": "code",
      "source": [
        "type(len)"
      ],
      "metadata": {
        "colab": {
          "base_uri": "https://localhost:8080/"
        },
        "id": "28EGdE5G3Mg7",
        "outputId": "c9e7a53f-10ca-4cd9-95ad-f221554a0bd1"
      },
      "execution_count": 92,
      "outputs": [
        {
          "output_type": "execute_result",
          "data": {
            "text/plain": [
              "builtin_function_or_method"
            ]
          },
          "metadata": {},
          "execution_count": 92
        }
      ]
    },
    {
      "cell_type": "code",
      "source": [
        "type(format)"
      ],
      "metadata": {
        "colab": {
          "base_uri": "https://localhost:8080/"
        },
        "id": "L8eDkcyD3Nbg",
        "outputId": "aa967959-88d9-4b1a-b9d0-8abbc37d3bbc"
      },
      "execution_count": 93,
      "outputs": [
        {
          "output_type": "execute_result",
          "data": {
            "text/plain": [
              "builtin_function_or_method"
            ]
          },
          "metadata": {},
          "execution_count": 93
        }
      ]
    },
    {
      "cell_type": "code",
      "source": [
        "type(range)"
      ],
      "metadata": {
        "colab": {
          "base_uri": "https://localhost:8080/"
        },
        "id": "fzLnPxb13P-2",
        "outputId": "e4daac59-94ea-4599-bad4-41e03046a03e"
      },
      "execution_count": 94,
      "outputs": [
        {
          "output_type": "execute_result",
          "data": {
            "text/plain": [
              "type"
            ]
          },
          "metadata": {},
          "execution_count": 94
        }
      ]
    },
    {
      "cell_type": "code",
      "source": [
        "type(zip)"
      ],
      "metadata": {
        "colab": {
          "base_uri": "https://localhost:8080/"
        },
        "id": "56vKtUBQ3Ru-",
        "outputId": "b984bed1-9d47-4530-ab08-d5d20b0e5e79"
      },
      "execution_count": 95,
      "outputs": [
        {
          "output_type": "execute_result",
          "data": {
            "text/plain": [
              "type"
            ]
          },
          "metadata": {},
          "execution_count": 95
        }
      ]
    },
    {
      "cell_type": "code",
      "source": [
        "type(map)"
      ],
      "metadata": {
        "colab": {
          "base_uri": "https://localhost:8080/"
        },
        "id": "khlPEDCF3TtH",
        "outputId": "3a0e457d-352b-40db-c6f9-39a56ca77440"
      },
      "execution_count": 96,
      "outputs": [
        {
          "output_type": "execute_result",
          "data": {
            "text/plain": [
              "type"
            ]
          },
          "metadata": {},
          "execution_count": 96
        }
      ]
    },
    {
      "cell_type": "code",
      "source": [
        "type(filter)"
      ],
      "metadata": {
        "colab": {
          "base_uri": "https://localhost:8080/"
        },
        "id": "XAx7THz23VDx",
        "outputId": "f0dd85d7-3448-4ff1-e085-cc2860c68502"
      },
      "execution_count": 97,
      "outputs": [
        {
          "output_type": "execute_result",
          "data": {
            "text/plain": [
              "type"
            ]
          },
          "metadata": {},
          "execution_count": 97
        }
      ]
    },
    {
      "cell_type": "code",
      "source": [
        "type(int)"
      ],
      "metadata": {
        "colab": {
          "base_uri": "https://localhost:8080/"
        },
        "id": "XfyMvNo93WPa",
        "outputId": "fb7a51a4-9b4c-468c-f64c-9eccc9c32c6f"
      },
      "execution_count": 98,
      "outputs": [
        {
          "output_type": "execute_result",
          "data": {
            "text/plain": [
              "type"
            ]
          },
          "metadata": {},
          "execution_count": 98
        }
      ]
    },
    {
      "cell_type": "code",
      "source": [
        "type(repr)"
      ],
      "metadata": {
        "colab": {
          "base_uri": "https://localhost:8080/"
        },
        "id": "GRV6yM2j3bhS",
        "outputId": "2dc44028-658e-4c40-87e9-93037a241cd8"
      },
      "execution_count": 99,
      "outputs": [
        {
          "output_type": "execute_result",
          "data": {
            "text/plain": [
              "builtin_function_or_method"
            ]
          },
          "metadata": {},
          "execution_count": 99
        }
      ]
    },
    {
      "cell_type": "code",
      "source": [
        "# range(start, stop, step) # 슬라이싱과 비슷한 형태를 지니고 있습니다.\n",
        "print(range(10))\n",
        "print(list(range(10)))\n",
        "x = range(10)\n",
        "print(type(x))\n",
        "print(list(range(0, 10, 2)))\n",
        "repr(list(range(10, 100, 89)))"
      ],
      "metadata": {
        "colab": {
          "base_uri": "https://localhost:8080/",
          "height": 109
        },
        "id": "pxA8tURo3eZo",
        "outputId": "94135816-fa75-4351-a9c3-50be725a2ff6"
      },
      "execution_count": 108,
      "outputs": [
        {
          "output_type": "stream",
          "name": "stdout",
          "text": [
            "range(0, 10)\n",
            "[0, 1, 2, 3, 4, 5, 6, 7, 8, 9]\n",
            "<class 'range'>\n",
            "[0, 2, 4, 6, 8]\n"
          ]
        },
        {
          "output_type": "execute_result",
          "data": {
            "text/plain": [
              "'[10, 99]'"
            ],
            "application/vnd.google.colaboratory.intrinsic+json": {
              "type": "string"
            }
          },
          "metadata": {},
          "execution_count": 108
        }
      ]
    },
    {
      "cell_type": "code",
      "source": [
        "# 2.x에서 range와 그 외 값들에 대한 히스토리\n",
        "# print(range(10))\n",
        "# [0, 1, 2, 3, 4, 5, 6, 7, 8, 9]\n",
        "# 메모리를 모두 차지해야 합니다.\n",
        "\n",
        "# print(range(1000000000000000000000))\n",
        "# 메모리 효율이 극도로 안좋아짐\n",
        "\n",
        "# 그런데 3.x에서 range(10000000000000000)는 메모리 효율이 안좋나요?\n",
        "# 시작과, 끝, 스텝값만 가지고 있기 떄문에 메ㅐ모리 낭비가 전혀 없습니다.\n",
        "\n",
        "#2.x 에서도 3.x와 같은 range타입이 있었습니다. xrange 문법입니다. xrange 문법이 3.x되면서 range가 된겁니다.\n",
        "# 2.x 에서 사용\n",
        "# print(xrange(10)) # xragne(10)\n",
        "# for i in xrange(10): # 순회가능\n",
        "#    print(i)"
      ],
      "metadata": {
        "id": "mEoXHeDF4AUG"
      },
      "execution_count": null,
      "outputs": []
    },
    {
      "cell_type": "code",
      "source": [
        "list(reversed('hello world'))"
      ],
      "metadata": {
        "colab": {
          "base_uri": "https://localhost:8080/"
        },
        "id": "U_jJ9akC7aPp",
        "outputId": "21c8ef5d-1e3b-4756-838c-e9e139d451fa"
      },
      "execution_count": 109,
      "outputs": [
        {
          "output_type": "execute_result",
          "data": {
            "text/plain": [
              "['d', 'l', 'r', 'o', 'w', ' ', 'o', 'l', 'l', 'e', 'h']"
            ]
          },
          "metadata": {},
          "execution_count": 109
        }
      ]
    },
    {
      "cell_type": "code",
      "source": [
        "list(reversed(sorted([1, 2, 3, 4, 5])))"
      ],
      "metadata": {
        "colab": {
          "base_uri": "https://localhost:8080/"
        },
        "id": "r1qysOTK7pwO",
        "outputId": "9cb92245-f427-4b89-dda2-f8b0c85d3537"
      },
      "execution_count": 110,
      "outputs": [
        {
          "output_type": "execute_result",
          "data": {
            "text/plain": [
              "[5, 4, 3, 2, 1]"
            ]
          },
          "metadata": {},
          "execution_count": 110
        }
      ]
    },
    {
      "cell_type": "code",
      "source": [
        "# 매우 중요합니다.\n",
        "# 알고리즘 문제에 단골 built-in function\n",
        "sorted([1, 2, 100, 200, 3, 4, 10, 20])\n",
        "sorted([1, 2, 100, 200, 3, 4, 10, 20], reverse=True)"
      ],
      "metadata": {
        "colab": {
          "base_uri": "https://localhost:8080/"
        },
        "id": "2Ccgbpz37_UQ",
        "outputId": "9a5c08ba-247e-459b-f18b-a92df10ed9a8"
      },
      "execution_count": 112,
      "outputs": [
        {
          "output_type": "execute_result",
          "data": {
            "text/plain": [
              "[200, 100, 20, 10, 4, 3, 2, 1]"
            ]
          },
          "metadata": {},
          "execution_count": 112
        }
      ]
    },
    {
      "cell_type": "code",
      "source": [
        "sorted(['hello', 'l', 'hllo', 'hel', 'heo', 'a'])\n",
        "\n",
        "sorted(['hello', 'l', 'hllo', 'hel', 'heo', 'a'], key=len)\n",
        "#위 코드는 sorted([5, 1, 4, 3, 3, 1])와 같습니다."
      ],
      "metadata": {
        "colab": {
          "base_uri": "https://localhost:8080/"
        },
        "id": "dqPGEu-3_BGc",
        "outputId": "39accac7-3ccc-452e-f94f-bbeb91a5b2a4"
      },
      "execution_count": 114,
      "outputs": [
        {
          "output_type": "execute_result",
          "data": {
            "text/plain": [
              "['l', 'a', 'hel', 'heo', 'hllo', 'hello']"
            ]
          },
          "metadata": {},
          "execution_count": 114
        }
      ]
    },
    {
      "cell_type": "code",
      "source": [
        "data = [\n",
        "    [2, 'hello world', 30],\n",
        "    [3, 'hello worl', 33],\n",
        "    [4, 'hello word', 31],\n",
        "    [5, 'hello wold', 35],\n",
        "    [6, 'hello wrld', 39]\n",
        "]\n",
        "\n",
        "# 1번째 문제 : 첫번째 요소로 값을 정렬하세요.\n",
        "sorted(data)\n",
        "\n",
        "# 2번째 문제 : 두 번째 요소의 문자열 길이를 기준으로 정렬하세요.\n",
        "sorted(data, key=lambda x:len(x[1]))\n",
        "\n",
        "# 3번째 문제 : 세 번째 요소 기준으로 정렬하세요.\n",
        "sorted(data, key=lambda x:x[2])\n",
        "\n",
        "# 4번째 문제 : 첫번째 요소와 세 번째 요소의 차가 큰 순으로 출력해주세요.\n",
        "\n",
        "sorted(data, key=lambda x:x[0] - x[2])\n"
      ],
      "metadata": {
        "colab": {
          "base_uri": "https://localhost:8080/"
        },
        "id": "prKR5cac_d14",
        "outputId": "4f1b8961-32cd-4a2a-ccff-f3f0092a707f"
      },
      "execution_count": 133,
      "outputs": [
        {
          "output_type": "execute_result",
          "data": {
            "text/plain": [
              "[[6, 'hello wrld', 39],\n",
              " [3, 'hello worl', 33],\n",
              " [5, 'hello wold', 35],\n",
              " [2, 'hello world', 30],\n",
              " [4, 'hello word', 31]]"
            ]
          },
          "metadata": {},
          "execution_count": 133
        }
      ]
    },
    {
      "cell_type": "code",
      "source": [],
      "metadata": {
        "id": "uQYBOGXiAdXI"
      },
      "execution_count": null,
      "outputs": []
    }
  ]
}