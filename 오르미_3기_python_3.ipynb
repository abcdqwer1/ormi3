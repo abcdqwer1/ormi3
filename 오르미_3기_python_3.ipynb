{
  "nbformat": 4,
  "nbformat_minor": 0,
  "metadata": {
    "colab": {
      "provenance": [],
      "authorship_tag": "ABX9TyOoy3bOC7aLYL+3PMYZ2hNo",
      "include_colab_link": true
    },
    "kernelspec": {
      "name": "python3",
      "display_name": "Python 3"
    },
    "language_info": {
      "name": "python"
    }
  },
  "cells": [
    {
      "cell_type": "markdown",
      "metadata": {
        "id": "view-in-github",
        "colab_type": "text"
      },
      "source": [
        "<a href=\"https://colab.research.google.com/github/abcdqwer1/ormi3/blob/main/%EC%98%A4%EB%A5%B4%EB%AF%B8_3%EA%B8%B0_python_3.ipynb\" target=\"_parent\"><img src=\"https://colab.research.google.com/assets/colab-badge.svg\" alt=\"Open In Colab\"/></a>"
      ]
    },
    {
      "cell_type": "markdown",
      "source": [
        "# 리스트"
      ],
      "metadata": {
        "id": "czBomeC7ELxy"
      }
    },
    {
      "cell_type": "code",
      "source": [],
      "metadata": {
        "id": "AHqmBJQiEJW2"
      },
      "execution_count": null,
      "outputs": []
    }
  ]
}