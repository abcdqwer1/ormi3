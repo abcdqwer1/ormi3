{
  "nbformat": 4,
  "nbformat_minor": 0,
  "metadata": {
    "colab": {
      "provenance": [],
      "authorship_tag": "ABX9TyM/2pwrn4HR6wJwoBPOy96F",
      "include_colab_link": true
    },
    "kernelspec": {
      "name": "python3",
      "display_name": "Python 3"
    },
    "language_info": {
      "name": "python"
    }
  },
  "cells": [
    {
      "cell_type": "markdown",
      "metadata": {
        "id": "view-in-github",
        "colab_type": "text"
      },
      "source": [
        "<a href=\"https://colab.research.google.com/github/abcdqwer1/ormi3/blob/main/%EC%98%A4%EB%A5%B4%EB%AF%B8_3%EA%B8%B0_python_7.ipynb\" target=\"_parent\"><img src=\"https://colab.research.google.com/assets/colab-badge.svg\" alt=\"Open In Colab\"/></a>"
      ]
    },
    {
      "cell_type": "markdown",
      "source": [
        "# 일반 문자열"
      ],
      "metadata": {
        "id": "EQolLOtfS4lK"
      }
    },
    {
      "cell_type": "code",
      "execution_count": null,
      "metadata": {
        "id": "Gon5g1ZiSjJk"
      },
      "outputs": [],
      "source": [
        "# 대소문자를 가립니다.\n",
        "# ^hello는 처음에 나오는 hello 입니다.\n",
        "# hello^는 마지막에 나오는 hello는 아닙니다.\n",
        "# hello$는 마지막에 나오는 hello 입니다.\n",
        "# h.llo는 h 다음에 어떤 문자든 1개의 문자(영문, 특수문자, 숫자, 한글 등)가 오며 llow가 이어 나와야 합니다."
      ]
    },
    {
      "cell_type": "code",
      "source": [
        "# h[eao]llo는 hello, hallo, hollo를 선택합니다. 3개 문자 중 택1 입니다.\n",
        "# h[e!ao]llo는 hello, hallo, hollo, h!llo를 선택합니다. 3개 문자 중 택1 입니다.\n",
        "# [a-z]\n",
        "# [a-zA-Z]\n",
        "# [0-9]\n",
        "# [a-zA-Z0-9]\n",
        "# [가-힣]\n",
        "# [helloworld]\n",
        "# ^[a-z] : 부정이 아닙니다. 알파벳으로 시작하는 문자열입니다.\n",
        "# [^a-z] : 대괄호 안에 들어가면 부정입니다.\n",
        "# h[a^o]llo : 부정을 하려면 앞에 사용해야함 이것 처럼 중간에 사용하면 인식되지않음"
      ],
      "metadata": {
        "id": "s9IXjb9KTZTZ"
      },
      "execution_count": null,
      "outputs": []
    },
    {
      "cell_type": "code",
      "source": [
        "# 저주의 숫자 3과 5\n",
        "# A마을에서는 3과 5를 사용하지 않습니다.\n",
        "# 3의 배수와 5배수는 3과 5가 들어가지만 않으면 사용합니다. 예를 들어 10은 사용합니다!\n",
        "# 그러면 이 마을에서 10진수 30이라는 숫자는 어떻게 표현할까요?\n",
        "# 10진법 - A마을에 숫자체계\n",
        "# 1 - 1\n",
        "# 2 - 2\n",
        "# 3 - 4\n",
        "# 4 - 6\n",
        "# 5 - 7\n",
        "# 6 - 8\n",
        "# 7 - 9\n",
        "# 8 - 10\n",
        "# 9 - 11\n",
        "# 10 - 12\n",
        "# 11 - 14\n",
        "# 와 같은 식으로 11은 14로 표현해야 합니다.\n",
        "\n"
      ],
      "metadata": {
        "id": "fBLXmAZrD0BN"
      },
      "execution_count": null,
      "outputs": []
    },
    {
      "cell_type": "code",
      "source": [
        "def solution(n: int):\n",
        "    answer = list(filter(lambda x: \"3\" not in str(x) and \"5\" not in str(x), range(100)))\n",
        "    return answer[n]"
      ],
      "metadata": {
        "id": "nzc9DrHAH3Qn"
      },
      "execution_count": null,
      "outputs": []
    },
    {
      "cell_type": "code",
      "source": [
        "def solution(n):\n",
        "\n",
        "    count = 0\n",
        "    for i in range(1,n+1):\n",
        "        count+=1\n",
        "        while '3' in str(count) or '5' in str(count):\n",
        "            count+=1\n",
        "    return count"
      ],
      "metadata": {
        "id": "VnMXGcNiIPc-"
      },
      "execution_count": null,
      "outputs": []
    },
    {
      "cell_type": "code",
      "source": [
        "# sum('1234', 'hello') 안됨x\n",
        "# sum(['1', '2'], hello) 안됨x\n",
        "# sum(['1', '2'], []) 됨"
      ],
      "metadata": {
        "id": "1f3PN2G-JKbq"
      },
      "execution_count": null,
      "outputs": []
    },
    {
      "cell_type": "code",
      "source": [
        "def ngram(s, n):\n",
        "    for i in range(0, len(s), n):\n",
        "        print(s[i:i+n])\n",
        "\n",
        "ngram('python', 2)\n"
      ],
      "metadata": {
        "id": "siRI81bbNgQI"
      },
      "execution_count": null,
      "outputs": []
    },
    {
      "cell_type": "code",
      "source": [
        "p = re.compile(r'[a-z]{2}')\n",
        "s = \"abcdefghijk\"\n",
        "p.findall(s)"
      ],
      "metadata": {
        "id": "vCbnA2cQS4cs"
      },
      "execution_count": null,
      "outputs": []
    },
    {
      "cell_type": "code",
      "source": [
        "print(type(html))\n",
        "print(dir(html))\n",
        "print(html.encoding)\n",
        "# html.encoding = 'utf-8' # 한글 깨져 나오면 이 코드를 실행해주세요.\n",
        "# html.headers\n",
        "# html.json\n",
        "# html.raw\n",
        "html.text"
      ],
      "metadata": {
        "id": "zK50qd50iDxv"
      },
      "execution_count": null,
      "outputs": []
    },
    {
      "cell_type": "code",
      "source": [
        "params = {'pa1': 'val1', 'pa2': 'value2'}\n",
        "response = requests.get('http://www.paullab.co.kr', params=params)"
      ],
      "metadata": {
        "id": "DcpZKlbtiEd6"
      },
      "execution_count": null,
      "outputs": []
    },
    {
      "cell_type": "code",
      "source": [
        "import requests\n",
        "from bs4 import BeautifulSoup\n",
        "\n",
        "response = requests.get('http://www.paullab.co.kr/stock.html')\n",
        "response.encoding = 'utf-8'\n",
        "html = response.text\n",
        "\n",
        "soup = BeautifulSoup(html, 'html.parser') # 원하는 문자열로 잘라줌"
      ],
      "metadata": {
        "id": "rO21FkeJk7Dc"
      },
      "execution_count": null,
      "outputs": []
    },
    {
      "cell_type": "code",
      "source": [
        "soup.select('#update')"
      ],
      "metadata": {
        "colab": {
          "base_uri": "https://localhost:8080/"
        },
        "id": "yOf2obMUmeFN",
        "outputId": "361a62ac-c8e9-4934-e310-839b0839e981"
      },
      "execution_count": null,
      "outputs": [
        {
          "output_type": "execute_result",
          "data": {
            "text/plain": [
              "[<span id=\"update\">update : 20.12.30 / 해외 크롤링이 Block되어 있으므로 크롤링이 안되시는 분은 이 URL(http://paullab.synology.me/stock.html)을 사용하세요.</span>]"
            ]
          },
          "metadata": {},
          "execution_count": 3
        }
      ]
    },
    {
      "cell_type": "code",
      "source": [
        "soup.select('tr>.num>span')[5].text"
      ],
      "metadata": {
        "colab": {
          "base_uri": "https://localhost:8080/",
          "height": 35
        },
        "id": "VJTpXOx0mevs",
        "outputId": "e248d334-cba8-479c-e133-6d58bd766796"
      },
      "execution_count": null,
      "outputs": [
        {
          "output_type": "execute_result",
          "data": {
            "text/plain": [
              "'398,421'"
            ],
            "application/vnd.google.colaboratory.intrinsic+json": {
              "type": "string"
            }
          },
          "metadata": {},
          "execution_count": 18
        }
      ]
    },
    {
      "cell_type": "code",
      "source": [
        "soup.select('tr')"
      ],
      "metadata": {
        "id": "A9_t1LPMnhJX"
      },
      "execution_count": null,
      "outputs": []
    },
    {
      "cell_type": "code",
      "source": [
        "import matplotlib.pyplot as plt\n",
        "\n",
        "plt.plot([10, 20, 30, 20, 25, 45])\n",
        "plt.xticks(rotation = -45 ) # y 축 변수 기울기 설정\n",
        "plt.show()"
      ],
      "metadata": {
        "id": "Y1LiAue_ohKr"
      },
      "execution_count": null,
      "outputs": []
    },
    {
      "cell_type": "code",
      "source": [
        "# 문제1 https://www.paullab.co.kr/stock.html 서비스를 크롤링하여\n",
        "# 제주코딩베이스캠프 연구원의 2019년 10월 총 거래량을 구해주세요.\n",
        "\n",
        "#문제2 html에서 태그를 제거하고 텍스트만 뽑아낼 수 있도록 해주세요.\n",
        "'<p>This is a <em>simple</em> example.</p>'\n",
        "\n",
        "#문제3 아래 텍스트에서 이메일만 추출할 수 있는 정규표현식을 만들어주세요.\n",
        "'제 이메일 주소는 example1@gmail.com이고 회사 이메일 주소는 example2@gmail.com 입니다. example1로 연락을 주셨다면 제게 메시지 한 번 부탁드립니다.'"
      ],
      "metadata": {
        "id": "dMHg02xoxa-t"
      },
      "execution_count": null,
      "outputs": []
    },
    {
      "cell_type": "code",
      "source": [
        "# 문제1\n",
        "import requests\n",
        "from bs4 import BeautifulSoup\n",
        "\n",
        "response = requests.get('http://www.paullab.co.kr/stock.html')\n",
        "response.encoding = 'utf-8'\n",
        "html = response.text\n",
        "\n",
        "soup = BeautifulSoup(html, 'html.parser')\n",
        "\n",
        "sum = 0\n",
        "for i in range(len(soup.select('tbody tr')))[1:]:\n",
        "    temp = soup.select('tbody tr')[i].select('.date')[0].text\n",
        "    if temp.split('.')[1] == '10':\n",
        "        sum += int(soup.select('.num')[(i+5)+(i*5)].text.replace(',', ''))\n",
        "    else:\n",
        "        break\n",
        "\n",
        "print(format(sum, ','))"
      ],
      "metadata": {
        "id": "toUuHujzxqLJ"
      },
      "execution_count": null,
      "outputs": []
    },
    {
      "cell_type": "code",
      "source": [
        "# 문제 2\n",
        "from bs4 import BeautifulSoup\n",
        "html = '<p>This is a <em>simple</em> example.</p>'\n",
        "\n",
        "result = BeautifulSoup(html,'html.parser')\n",
        "print(result.text)"
      ],
      "metadata": {
        "colab": {
          "base_uri": "https://localhost:8080/"
        },
        "id": "d4VeFv6jCVJI",
        "outputId": "107f21d7-d8c6-415b-c372-059a8cd34ed7"
      },
      "execution_count": null,
      "outputs": [
        {
          "output_type": "stream",
          "name": "stdout",
          "text": [
            "This is a simple example.\n"
          ]
        }
      ]
    },
    {
      "cell_type": "code",
      "source": [
        "#문제3 아래 텍스트에서 이메일만 추출할 수 있는 정규표현식을 만들어주세요.\n",
        "import re\n",
        "\n",
        "text = '제 이메일 주소는 example1@gmail.com이고 회사 이메일 주소는 example2@gmail.com 입니다. example1로 연락을 주셨다면 제게 메시지 한 번 부탁드립니다.'\n",
        "\n",
        "email = re.sub(r'[^a-zA-Z0-9.@]', '', text)\n",
        "email\n"
      ],
      "metadata": {
        "colab": {
          "base_uri": "https://localhost:8080/",
          "height": 35
        },
        "id": "0gV-Lj6iEGV2",
        "outputId": "28461426-96b2-4b23-bef9-47e37d2027e6"
      },
      "execution_count": null,
      "outputs": [
        {
          "output_type": "execute_result",
          "data": {
            "text/plain": [
              "'example1@gmail.comexample2@gmail.com.example1.'"
            ],
            "application/vnd.google.colaboratory.intrinsic+json": {
              "type": "string"
            }
          },
          "metadata": {},
          "execution_count": 142
        }
      ]
    },
    {
      "cell_type": "code",
      "source": [
        "# a = soup.select('tbody tr')[1].select('.date')[0].text\n",
        "\n",
        "sum = 0\n",
        "for i in range(len(soup.select('tbody tr')))[1:]:\n",
        "    a = soup.select('tbody tr')[i].select('.date')[0].text\n",
        "    if a.split('.')[1] == '10':\n",
        "        sum += int(soup.select('.num')[(i+5)+(i*5)].text.replace(',', ''))\n",
        "    else:\n",
        "        break\n",
        "\n",
        "print(format(sum, ','))\n",
        "# a.find('90')\n",
        "# a.select_one('10')"
      ],
      "metadata": {
        "colab": {
          "base_uri": "https://localhost:8080/"
        },
        "id": "dCo91DzByiyj",
        "outputId": "750d1679-3703-4bf4-8165-af2edad9ebe1"
      },
      "execution_count": null,
      "outputs": [
        {
          "output_type": "stream",
          "name": "stdout",
          "text": [
            "11,202,451\n"
          ]
        }
      ]
    },
    {
      "cell_type": "code",
      "source": [
        "sum(soup.select('.num')[(i+5)+(i*5)].text)"
      ],
      "metadata": {
        "colab": {
          "base_uri": "https://localhost:8080/",
          "height": 184
        },
        "id": "CZuhQ2jkyj6I",
        "outputId": "58c211b5-a5ac-4f5a-d823-e1291fbf4060"
      },
      "execution_count": null,
      "outputs": [
        {
          "output_type": "error",
          "ename": "TypeError",
          "evalue": "ignored",
          "traceback": [
            "\u001b[0;31m---------------------------------------------------------------------------\u001b[0m",
            "\u001b[0;31mTypeError\u001b[0m                                 Traceback (most recent call last)",
            "\u001b[0;32m<ipython-input-138-cf7ad167523f>\u001b[0m in \u001b[0;36m<cell line: 1>\u001b[0;34m()\u001b[0m\n\u001b[0;32m----> 1\u001b[0;31m \u001b[0msum\u001b[0m\u001b[0;34m(\u001b[0m\u001b[0msoup\u001b[0m\u001b[0;34m.\u001b[0m\u001b[0mselect\u001b[0m\u001b[0;34m(\u001b[0m\u001b[0;34m'.num'\u001b[0m\u001b[0;34m)\u001b[0m\u001b[0;34m[\u001b[0m\u001b[0;34m(\u001b[0m\u001b[0mi\u001b[0m\u001b[0;34m+\u001b[0m\u001b[0;36m5\u001b[0m\u001b[0;34m)\u001b[0m\u001b[0;34m+\u001b[0m\u001b[0;34m(\u001b[0m\u001b[0mi\u001b[0m\u001b[0;34m*\u001b[0m\u001b[0;36m5\u001b[0m\u001b[0;34m)\u001b[0m\u001b[0;34m]\u001b[0m\u001b[0;34m.\u001b[0m\u001b[0mtext\u001b[0m\u001b[0;34m)\u001b[0m\u001b[0;34m\u001b[0m\u001b[0;34m\u001b[0m\u001b[0m\n\u001b[0m",
            "\u001b[0;31mTypeError\u001b[0m: 'int' object is not callable"
          ]
        }
      ]
    },
    {
      "cell_type": "code",
      "source": [
        "range(len(soup.select('tbody tr')))[1:]"
      ],
      "metadata": {
        "colab": {
          "base_uri": "https://localhost:8080/"
        },
        "id": "87k7PKIW39-R",
        "outputId": "e8398a2f-ded5-4123-c5d5-6019f2f3d10b"
      },
      "execution_count": null,
      "outputs": [
        {
          "output_type": "execute_result",
          "data": {
            "text/plain": [
              "range(1, 84)"
            ]
          },
          "metadata": {},
          "execution_count": 98
        }
      ]
    },
    {
      "cell_type": "code",
      "source": [
        "soup.select('tbody tr')[1]"
      ],
      "metadata": {
        "colab": {
          "base_uri": "https://localhost:8080/"
        },
        "id": "O4IOK24n8bq4",
        "outputId": "f9956a3a-2b1d-4a46-ff14-54b1bf652c04"
      },
      "execution_count": null,
      "outputs": [
        {
          "output_type": "execute_result",
          "data": {
            "text/plain": [
              "<tr>\n",
              "<td align=\"center \"><span class=\"date\">2019.10.23</span></td>\n",
              "<td class=\"num\"><span>6,650</span></td>\n",
              "<td class=\"num\">\n",
              "<img alt=\"상승 \" height=\"6 \" src=\"ico_up.gif \" style=\"margin-right:4px; \" width=\"7 \"/><span>\n",
              "                            20\n",
              "                        </span>\n",
              "</td>\n",
              "<td class=\"num\"><span>6,590</span></td>\n",
              "<td class=\"num\"><span>6,830</span></td>\n",
              "<td class=\"num\"><span>6,580</span></td>\n",
              "<td class=\"num\"><span>398,421</span></td>\n",
              "</tr>"
            ]
          },
          "metadata": {},
          "execution_count": 96
        }
      ]
    },
    {
      "cell_type": "code",
      "source": [
        "sum += soup.select('.num')[(5+5)+(5*5)].text\n",
        "sum"
      ],
      "metadata": {
        "colab": {
          "base_uri": "https://localhost:8080/",
          "height": 35
        },
        "id": "y-Dfw0H489Sm",
        "outputId": "662412f5-36dc-4029-96ed-f9ce0e9a5004"
      },
      "execution_count": null,
      "outputs": [
        {
          "output_type": "execute_result",
          "data": {
            "text/plain": [
              "'1,982,922839,434'"
            ],
            "application/vnd.google.colaboratory.intrinsic+json": {
              "type": "string"
            }
          },
          "metadata": {},
          "execution_count": 111
        }
      ]
    },
    {
      "cell_type": "code",
      "source": [
        "sum = int(soup.select('.num')[(5+5)+(5*5)].text.replace(',', ''))"
      ],
      "metadata": {
        "colab": {
          "base_uri": "https://localhost:8080/"
        },
        "id": "0EPa5y5j9Ftv",
        "outputId": "4e904ce1-de6e-4531-a0e7-159b6966945f"
      },
      "execution_count": null,
      "outputs": [
        {
          "output_type": "execute_result",
          "data": {
            "text/plain": [
              "839434"
            ]
          },
          "metadata": {},
          "execution_count": 116
        }
      ]
    },
    {
      "cell_type": "code",
      "source": [
        "# 문제1 https://www.paullab.co.kr/stock.html 서비스를 크롤링하여\n",
        "# 제주코딩베이스캠프 연구원의 2019년 10월 총 거래량을 구해주세요\n",
        "\n",
        "import requests\n",
        "from bs4 import BeautifulSoup\n",
        "\n",
        "response = requests.get('http://www.paullab.co.kr/stock.html')\n",
        "response.encoding = 'utf-8'\n",
        "html = response.text\n",
        "\n",
        "soup = BeautifulSoup(html, 'html.parser')\n"
      ],
      "metadata": {
        "id": "2COWltww-2R4"
      },
      "execution_count": null,
      "outputs": []
    },
    {
      "cell_type": "code",
      "source": [
        "class DailyTradingVolume:\n",
        "    def __init__(self, 날짜, 종가, 전일비, 시가, 고가, 저가, 거래량):\n",
        "        self.날짜 = 날짜\n",
        "        self.종가 = 종가\n",
        "        self.전일비 = 전일비\n",
        "        self.시가 = 시가\n",
        "        self.고가 = 고가\n",
        "        self.저가 = 저가\n",
        "        self.거래량 = 거래량\n",
        "\n",
        "    def __str__(self)\n",
        "\n",
        "\n",
        "class PublicCompany:\n",
        "    def __init__(self, 시가총액, 상장주식수, 매출, 비용, 순익):\n",
        "        self.시가총액 = 시가총액\n",
        "        self.상장주식수 = 상장주식수\n",
        "        self.매출 = 매출\n",
        "        self.비용 = 비용\n",
        "        self.순익 = 순익\n",
        "        self.거래 = []\n",
        "\n",
        "제코베연구원 = PublicCompany(시가총액 = 100,\n",
        "                       상장주식수 = 100,\n",
        "                       매출 = 100,\n",
        "                       비용 = 100,\n",
        "                       순익 = 100)\n",
        "\n",
        "제코베연구원.매출"
      ],
      "metadata": {
        "id": "V8Umop4ZjR-j"
      },
      "execution_count": null,
      "outputs": []
    },
    {
      "cell_type": "code",
      "source": [
        "'''\n",
        "<tr>\n",
        "<th scope=\"col\">날짜</th>\n",
        "<th scope=\"col\">종가</th>\n",
        "<th scope=\"col\">전일비</th>\n",
        "<th scope=\"col\">시가</th>\n",
        "<th scope=\"col\">고가</th>\n",
        "<th scope=\"col\">저가</th>\n",
        "<th scope=\"col\">거래량</th>\n",
        "</tr>\n",
        "'''\n",
        "# print(type(soup.select('.main > table')[0]))\n",
        "# print(type(soup))\n",
        "for i in soup.select('.main > table')[0].select('tr')[1:]:\n",
        "    # print(i.select('td')[0].text)\n",
        "    날짜 = i.select('td')[0].text\n",
        "    종가 = i.select('td')[1].text\n",
        "    전일비 = i.select('td')[2].text\n",
        "    시가 = i.select('td')[3].text\n",
        "    고가 = i.select('td')[4].text\n",
        "    저가 = i.select('td')[5].text\n",
        "    거래량 = i.select('td')[6].text\n",
        "    제코베연구원.거래.append(DailyTradingVolume(날짜, 종가, 전일비, 시가, 고가, 저가, 거래량))\n"
      ],
      "metadata": {
        "id": "sACVagRymxJy"
      },
      "execution_count": null,
      "outputs": []
    },
    {
      "cell_type": "code",
      "source": [
        "제코베연구원.거래[0]"
      ],
      "metadata": {
        "id": "NXlde-L7qah_"
      },
      "execution_count": null,
      "outputs": []
    },
    {
      "cell_type": "code",
      "source": [
        "def solution(data):\n",
        "    x = data\n",
        "    count = 0\n",
        "    a = ''\n",
        "    for i in range(x):\n",
        "        a += str(x.pop())\n",
        "        if a == [1, 2, 3, 4, 1]:\n",
        "            count += 1\n",
        "    print(x)\n",
        "    print(count)\n",
        "\n",
        "solution([1, 2, 3, 4, 1, 1])"
      ],
      "metadata": {
        "colab": {
          "base_uri": "https://localhost:8080/",
          "height": 349
        },
        "id": "gYxa_J1rTAIy",
        "outputId": "ee8d9e7a-2f28-4436-a88b-edca50b65e2b"
      },
      "execution_count": null,
      "outputs": [
        {
          "output_type": "error",
          "ename": "TypeError",
          "evalue": "ignored",
          "traceback": [
            "\u001b[0;31m---------------------------------------------------------------------------\u001b[0m",
            "\u001b[0;31mTypeError\u001b[0m                                 Traceback (most recent call last)",
            "\u001b[0;32m<ipython-input-11-936bfc91ff1a>\u001b[0m in \u001b[0;36m<cell line: 12>\u001b[0;34m()\u001b[0m\n\u001b[1;32m     10\u001b[0m     \u001b[0mprint\u001b[0m\u001b[0;34m(\u001b[0m\u001b[0mcount\u001b[0m\u001b[0;34m)\u001b[0m\u001b[0;34m\u001b[0m\u001b[0;34m\u001b[0m\u001b[0m\n\u001b[1;32m     11\u001b[0m \u001b[0;34m\u001b[0m\u001b[0m\n\u001b[0;32m---> 12\u001b[0;31m \u001b[0msolution\u001b[0m\u001b[0;34m(\u001b[0m\u001b[0;34m[\u001b[0m\u001b[0;36m1\u001b[0m\u001b[0;34m,\u001b[0m \u001b[0;36m2\u001b[0m\u001b[0;34m,\u001b[0m \u001b[0;36m3\u001b[0m\u001b[0;34m,\u001b[0m \u001b[0;36m4\u001b[0m\u001b[0;34m,\u001b[0m \u001b[0;36m1\u001b[0m\u001b[0;34m,\u001b[0m \u001b[0;36m1\u001b[0m\u001b[0;34m]\u001b[0m\u001b[0;34m)\u001b[0m\u001b[0;34m\u001b[0m\u001b[0;34m\u001b[0m\u001b[0m\n\u001b[0m",
            "\u001b[0;32m<ipython-input-11-936bfc91ff1a>\u001b[0m in \u001b[0;36msolution\u001b[0;34m(data)\u001b[0m\n\u001b[1;32m      3\u001b[0m     \u001b[0mcount\u001b[0m \u001b[0;34m=\u001b[0m \u001b[0;36m0\u001b[0m\u001b[0;34m\u001b[0m\u001b[0;34m\u001b[0m\u001b[0m\n\u001b[1;32m      4\u001b[0m     \u001b[0ma\u001b[0m \u001b[0;34m=\u001b[0m \u001b[0;34m''\u001b[0m\u001b[0;34m\u001b[0m\u001b[0;34m\u001b[0m\u001b[0m\n\u001b[0;32m----> 5\u001b[0;31m     \u001b[0;32mfor\u001b[0m \u001b[0mi\u001b[0m \u001b[0;32min\u001b[0m \u001b[0mrange\u001b[0m\u001b[0;34m(\u001b[0m\u001b[0mx\u001b[0m\u001b[0;34m)\u001b[0m\u001b[0;34m:\u001b[0m\u001b[0;34m\u001b[0m\u001b[0;34m\u001b[0m\u001b[0m\n\u001b[0m\u001b[1;32m      6\u001b[0m         \u001b[0ma\u001b[0m \u001b[0;34m+=\u001b[0m \u001b[0mstr\u001b[0m\u001b[0;34m(\u001b[0m\u001b[0mx\u001b[0m\u001b[0;34m.\u001b[0m\u001b[0mpop\u001b[0m\u001b[0;34m(\u001b[0m\u001b[0;34m)\u001b[0m\u001b[0;34m)\u001b[0m\u001b[0;34m\u001b[0m\u001b[0;34m\u001b[0m\u001b[0m\n\u001b[1;32m      7\u001b[0m         \u001b[0;32mif\u001b[0m \u001b[0ma\u001b[0m \u001b[0;34m==\u001b[0m \u001b[0;34m[\u001b[0m\u001b[0;36m1\u001b[0m\u001b[0;34m,\u001b[0m \u001b[0;36m2\u001b[0m\u001b[0;34m,\u001b[0m \u001b[0;36m3\u001b[0m\u001b[0;34m,\u001b[0m \u001b[0;36m4\u001b[0m\u001b[0;34m,\u001b[0m \u001b[0;36m1\u001b[0m\u001b[0;34m]\u001b[0m\u001b[0;34m:\u001b[0m\u001b[0;34m\u001b[0m\u001b[0;34m\u001b[0m\u001b[0m\n",
            "\u001b[0;31mTypeError\u001b[0m: 'list' object cannot be interpreted as an integer"
          ]
        }
      ]
    },
    {
      "cell_type": "code",
      "source": [
        "def solution(data):\n",
        "    new_l = []\n",
        "    cnt = 0\n",
        "    for i in data:\n",
        "        new_l.append(i)\n",
        "        if new_l[-5:] == [1, 2, 3, 4, 1]:\n",
        "            for i in range(5):\n",
        "                new_l.pop()\n",
        "            print(new_l)\n",
        "            cnt +=1\n",
        "    return cnt\n",
        "\n",
        "solution([1, 2, 3, 4, 1, 2, 3, 4, 1, 1])\n",
        "\n",
        "[2, 3, 4, 1, 1]"
      ],
      "metadata": {
        "id": "R2nSdgG0TGK6"
      },
      "execution_count": null,
      "outputs": []
    }
  ]
}