{
  "nbformat": 4,
  "nbformat_minor": 0,
  "metadata": {
    "colab": {
      "provenance": [],
      "authorship_tag": "ABX9TyNKS3sa1o/XFqqMTxp0rayz",
      "include_colab_link": true
    },
    "kernelspec": {
      "name": "python3",
      "display_name": "Python 3"
    },
    "language_info": {
      "name": "python"
    }
  },
  "cells": [
    {
      "cell_type": "markdown",
      "metadata": {
        "id": "view-in-github",
        "colab_type": "text"
      },
      "source": [
        "<a href=\"https://colab.research.google.com/github/abcdqwer1/ormi3/blob/main/%EC%98%A4%EB%A5%B4%EB%AF%B8_3%EA%B8%B0_python_6.ipynb\" target=\"_parent\"><img src=\"https://colab.research.google.com/assets/colab-badge.svg\" alt=\"Open In Colab\"/></a>"
      ]
    },
    {
      "cell_type": "code",
      "source": [
        "#일급함수"
      ],
      "metadata": {
        "id": "v8t9BHsHPhS_"
      },
      "execution_count": null,
      "outputs": []
    },
    {
      "cell_type": "code",
      "execution_count": 2,
      "metadata": {
        "colab": {
          "base_uri": "https://localhost:8080/"
        },
        "id": "JOdrQlvP_DG7",
        "outputId": "bd337ffc-e363-482e-c0b9-ce850528c748"
      },
      "outputs": [
        {
          "output_type": "execute_result",
          "data": {
            "text/plain": [
              "2.8284271247461903"
            ]
          },
          "metadata": {},
          "execution_count": 2
        }
      ],
      "source": [
        "def length(a, b, square, root):\n",
        "    return root(square(a) + square(b))\n",
        "\n",
        "def square(x):\n",
        "    return x ** 2\n",
        "\n",
        "def root(x):\n",
        "    return x ** 0.5\n",
        "\n",
        "length(2, 2, square, root)"
      ]
    },
    {
      "cell_type": "code",
      "source": [
        "# 함수를 결과로 반환!\n",
        "def create_adder(x):\n",
        "    def adder(y):\n",
        "        return x + y\n",
        "    return adder\n",
        "\n",
        "add_5 = create_adder(5)\n",
        "print(add_5(10))  # 출력: 15"
      ],
      "metadata": {
        "id": "IXOez6IAD8Bg"
      },
      "execution_count": null,
      "outputs": []
    },
    {
      "cell_type": "code",
      "source": [
        "def create_exponent(x):\n",
        "    def exponent(y):\n",
        "        return y ** x\n",
        "    return exponent\n",
        "\n",
        "exponent_2 = f(2)\n",
        "exponent_3 = f(3)\n",
        "print(exponent_2(10)) # 출력: 100\n",
        "print(exponent_3(10)) # 출력: 1000"
      ],
      "metadata": {
        "id": "PU3RP3fiHFe7"
      },
      "execution_count": null,
      "outputs": []
    },
    {
      "cell_type": "code",
      "source": [
        "def create_exponent(x):\n",
        "    def exponent(y):\n",
        "        return y ** x\n",
        "    return exponent\n",
        "\n",
        "exponent_2 = create_exponent(2)\n",
        "exponent_3 = create_exponent(3)\n",
        "print(exponent_2(10)) # 출력: 100\n",
        "print(exponent_3(10)) # 출력: 1000"
      ],
      "metadata": {
        "id": "INvP5bqGHH1t"
      },
      "execution_count": null,
      "outputs": []
    },
    {
      "cell_type": "code",
      "source": [
        "def create_exponent(x):\n",
        "    def exponent(y):\n",
        "        return y ** x\n",
        "    return exponent\n",
        "\n",
        "exponent_2 = create_exponent(2) # exponent\n",
        "exponent_3 = create_exponent(3) # exponent\n",
        "print(exponent_2(10)) # 출력: 100\n",
        "# print(exponent(10)) => return y ** 2(이 숫자는 상수취급되어 변경시킬 수 없게 됩니다.)\n",
        "print(exponent_3(10)) # 출력: 1000\n",
        "# print(exponent(10)) => return y ** 3(이 숫자는 상수취급되어 변경시킬 수 없게 됩니다.)"
      ],
      "metadata": {
        "id": "vYuUS1JxIPWJ"
      },
      "execution_count": null,
      "outputs": []
    },
    {
      "cell_type": "code",
      "source": [
        "def f():\n",
        "    l = [10, 20, 30]\n",
        "    print(id(l))\n",
        "    return l\n",
        "\n",
        "sample = f()"
      ],
      "metadata": {
        "id": "xHhdaVqDJVEe"
      },
      "execution_count": null,
      "outputs": []
    },
    {
      "cell_type": "code",
      "source": [
        "# 일급 함수: 함수를 일급객체(값, 주소)로 취급\n",
        "# 고차 함수: 함수를 아규먼트로 받거나 return 값으로 반환할 수 있는 함수"
      ],
      "metadata": {
        "id": "qRKJer18MKHp"
      },
      "execution_count": null,
      "outputs": []
    },
    {
      "cell_type": "code",
      "source": [
        "# 클로저가 아닌경우\n",
        "def outer_function():\n",
        "    def inner_function():\n",
        "        return 100+100\n",
        "    return inner_function\n",
        "\n",
        "# 클로저인 경우\n",
        "def outer_function(x):\n",
        "    def inner_function(y):\n",
        "        return x + y\n",
        "    return inner_function\n",
        "\n",
        "inner = outer_function(100)\n",
        "inner(200) # inner 입장에서 100을 변경할 수 있는 방법이 없습니다."
      ],
      "metadata": {
        "id": "VkknVPc7MK-w"
      },
      "execution_count": null,
      "outputs": []
    },
    {
      "cell_type": "code",
      "source": [
        "# 고차함수이며, 일반적인 클로저의 형태는 아닙니다.\n",
        "# 보통 클로저는 outer_function에 은닉할 값을 매개변수로 넘겨줍니다.\n",
        "def outer_function():\n",
        "    def inner_function():\n",
        "        return 100 + 100\n",
        "    return inner_function\n",
        "\n",
        "# 클로저인 경우\n",
        "def outer_function(x):\n",
        "    def inner_function(y):\n",
        "        return x + y\n",
        "    return inner_function\n",
        "\n",
        "inner = outer_function(100)\n",
        "'''\n",
        "def inner(y):\n",
        "    return 100 + y\n",
        "inner(200)\n",
        "'''\n",
        "inner(200) # inner 입장에서 100을 변경할 수 있는 방법이 없습니다."
      ],
      "metadata": {
        "id": "CzWBX6RbNnWR"
      },
      "execution_count": null,
      "outputs": []
    },
    {
      "cell_type": "markdown",
      "source": [
        "# 데코레이터"
      ],
      "metadata": {
        "id": "3oND7fEgPeUf"
      }
    },
    {
      "cell_type": "code",
      "source": [
        "def simple_decorator(function):\n",
        "    def wrapper():\n",
        "        print(\"Before the function call\")\n",
        "        function()\n",
        "        print(\"After the function call\")\n",
        "    return wrapper\n",
        "\n",
        "@simple_decorator\n",
        "def hello():\n",
        "    print(\"Hello, World!\")\n",
        "\n",
        "hello() # 데코레이터가 없는 상태에서는 simple_decorator(hello)() 와 같습니다."
      ],
      "metadata": {
        "id": "ImxkGgiqPX8d"
      },
      "execution_count": null,
      "outputs": []
    },
    {
      "cell_type": "code",
      "source": [
        "def simple_decorator(function):\n",
        "    def wrapper():\n",
        "        print(\"Before the function call\")\n",
        "        function()\n",
        "        print(\"After the function call\")\n",
        "    return wrapper\n",
        "\n",
        "def hello():\n",
        "    print(\"Hello, World!\")\n",
        "\n",
        "simple_decorator(hello)()\n",
        "# simple_decorator(hello) => wrapper\n",
        "# simple_decorator(hello)() => wrapper()"
      ],
      "metadata": {
        "id": "b8yUi3LZPa65"
      },
      "execution_count": null,
      "outputs": []
    },
    {
      "cell_type": "code",
      "source": [
        "def simple_decorator(function):\n",
        "    def wrapper():\n",
        "        print(\"Before the function call\")\n",
        "        function()\n",
        "        print(\"After the function call\")\n",
        "    return wrapper\n",
        "\n",
        "@simple_decorator\n",
        "def hello():\n",
        "    print(\"Hello, World!\")\n",
        "\n",
        "hello() # 이렇게만 하면 simple_decorator에 hello를 아규먼트로 넣어주고 실행하겠다!"
      ],
      "metadata": {
        "id": "fSyb3a-jPY7H"
      },
      "execution_count": null,
      "outputs": []
    },
    {
      "cell_type": "code",
      "source": [
        "# step 2\n",
        "def data_Preprocessing(function):\n",
        "    def wrapper(data):\n",
        "        print(data)\n",
        "    return wrapper\n",
        "\n",
        "@data_Preprocessing\n",
        "def mean(data):\n",
        "    return sum(data)/len(data)\n",
        "\n",
        "mean([1, 2, '3', 4, '5']) # 데이터만 출력하고 함수는 None을 반환"
      ],
      "metadata": {
        "id": "VI9WhWbmQPr8"
      },
      "execution_count": null,
      "outputs": []
    },
    {
      "cell_type": "code",
      "source": [
        "# step 3\n",
        "def data_Preprocessing(function):\n",
        "    def wrapper(data):\n",
        "        return function(list(map(int, data)))\n",
        "    return wrapper\n",
        "\n",
        "@data_Preprocessing\n",
        "def mean(data):\n",
        "    return sum(data)/len(data)\n",
        "\n",
        "mean([1, 2, '3', 4, '5']) # 출력: 3.0 (정상 작동)"
      ],
      "metadata": {
        "id": "ndBoBcVBRInm"
      },
      "execution_count": null,
      "outputs": []
    },
    {
      "cell_type": "code",
      "source": [
        "# 강성웅님 Q&A\n",
        "# b를 실행시키고 싶은데 어떻게 해야 할까요?\n",
        "def outer(function):\n",
        "    def wrapper():\n",
        "        return 'hello'\n",
        "    return wrapper\n",
        "\n",
        "@outer\n",
        "def a():\n",
        "    def b():\n",
        "        print('hello b')\n",
        "    return b\n",
        "\n",
        "print(a())"
      ],
      "metadata": {
        "id": "_H5gn00iYqqm"
      },
      "execution_count": null,
      "outputs": []
    },
    {
      "cell_type": "code",
      "source": [
        "# 강성웅님 Q&A\n",
        "# b를 실행시키고 싶은데 어떻게 해야 할까요?\n",
        "def outer(function):\n",
        "    def wrapper():\n",
        "        function()\n",
        "        return 'hello'\n",
        "    return wrapper\n",
        "\n",
        "@outer\n",
        "def a():\n",
        "    def b():\n",
        "        print('hello b')\n",
        "    return b\n",
        "\n",
        "print(a())"
      ],
      "metadata": {
        "id": "xuA4YgJcYrkW"
      },
      "execution_count": null,
      "outputs": []
    },
    {
      "cell_type": "code",
      "source": [
        "# 강성웅님 Q&A\n",
        "# b를 실행시키고 싶은데 어떻게 해야 할까요?\n",
        "def outer(function):\n",
        "    def wrapper():\n",
        "        function()\n",
        "        return 'hello'\n",
        "    return wrapper\n",
        "\n",
        "@outer\n",
        "def a():\n",
        "    def b():\n",
        "        print('hello b')\n",
        "    return b\n",
        "\n",
        "print(a())"
      ],
      "metadata": {
        "id": "8Y3fv6DRYshk"
      },
      "execution_count": null,
      "outputs": []
    },
    {
      "cell_type": "code",
      "source": [
        "# 강성웅님 Q&A\n",
        "# b를 실행시키고 싶은데 어떻게 해야 할까요?\n",
        "def outer(function):\n",
        "    def wrapper():\n",
        "        function()()\n",
        "        return 'hello'\n",
        "    return wrapper\n",
        "\n",
        "@outer\n",
        "def a():\n",
        "    def b():\n",
        "        print('hello b')\n",
        "    return b\n",
        "\n",
        "print(a())"
      ],
      "metadata": {
        "id": "qU9ZBc2MYtck"
      },
      "execution_count": null,
      "outputs": []
    },
    {
      "cell_type": "code",
      "source": [
        "def add_exclamation(function):\n",
        "    def wrapper(text):\n",
        "        print(f'add_exclamation 데코레이터 시작')\n",
        "        result = function(text) + \"!\"\n",
        "        print(f'add_exclamation 데코레이터 종료')\n",
        "        return result\n",
        "    return wrapper\n",
        "\n",
        "def add_question_mark(function):\n",
        "    def wrapper(text):\n",
        "        print(f'add_question_mark 데코레이터 시작')\n",
        "        result = function(text) + \"?\"\n",
        "        print(f'add_question_mark 데코레이터 종료')\n",
        "        return result\n",
        "    return wrapper\n",
        "\n",
        "def add_dot(function):\n",
        "    def wrapper(text):\n",
        "        print(f'add_dot 데코레이터 시작')\n",
        "        result = function(text) + \".\"\n",
        "        print(f'add_dot 데코레이터 종료')\n",
        "        return result\n",
        "    return wrapper"
      ],
      "metadata": {
        "id": "Xy53XZY4aDMj"
      },
      "execution_count": null,
      "outputs": []
    },
    {
      "cell_type": "code",
      "source": [
        "def add(n): # 데코레이터를 감싸는 하나의 함수를 더 만들어서 아규먼트를 받는 방법입니다.\n",
        "    def decorator(function): # 여기서부터의 기능은 같습니다.\n",
        "        def new_function(a, b):\n",
        "            print(f'plus 함수가 {n}만큼 증가시키는 데코레이터가 시작됩니다.')\n",
        "            result = function(a, b)\n",
        "            print(result)\n",
        "            print(f'plus 함수가 {n}만큼 증가시키는 데코레이터가 종료됩니다.')\n",
        "            return result + n\n",
        "        return new_function\n",
        "    return decorator\n",
        "\n",
        "@add(1000)\n",
        "def plus(a, b):\n",
        "    print('plus 함수가 호출되었습니다.')\n",
        "    return a + b\n",
        "\n",
        "result = plus(10, 20)\n",
        "print(f'result : {result}')"
      ],
      "metadata": {
        "id": "LHbZKxh1bnhu"
      },
      "execution_count": null,
      "outputs": []
    },
    {
      "cell_type": "code",
      "source": [
        "# plus(10, 20) == add(n)(plus)(10,20)\n",
        "\n",
        "def plus(a, b):\n",
        "    print('plus 함수가 호출되었습니다.')\n",
        "    return a + b\n",
        "\n",
        "def add(n):\n",
        "    def decorator(f):\n",
        "        def wrapper(a, b):\n",
        "            print(f'plus 함수가 {n}만큼 증가시키는 데코레이터가 시작됩니다.')\n",
        "            result = f(a, b)\n",
        "            print(result)\n",
        "            print(f'plus 함수가 {n}만큼 증가시키는 데코레이터가 종료됩니다.')\n",
        "            return result + n\n",
        "        return wrapper\n",
        "    return decorator\n",
        "\n",
        "# add(n)(plus)(10,20), add(1000) == decorator\n",
        "# decorator(plus)(10,20), decorator(plus) == wrapper\n",
        "# wrapper(10, 20)\n",
        "\n",
        "# decorator(plus(10, 20))() (X)\n",
        "# add(1000)(plus)(10, 20)() (X)\n",
        "# add(1000)(plus)(10, 20)"
      ],
      "metadata": {
        "id": "b9m-_siCxJgF"
      },
      "execution_count": null,
      "outputs": []
    },
    {
      "cell_type": "code",
      "source": [
        "def plus(a, b):\n",
        "    print('plus 함수가 호출되었습니다.')\n",
        "    return a + b\n",
        "\n",
        "def add(n):\n",
        "    def decorator(f):\n",
        "        def wrapper(a, b):\n",
        "            print(f'plus 함수가 {n}만큼 증가시키는 데코레이터가 시작됩니다.')\n",
        "            result = f(a, b)\n",
        "            print(result)\n",
        "            print(f'plus 함수가 {n}만큼 증가시키는 데코레이터가 종료됩니다.')\n",
        "            return result + n\n",
        "        return wrapper\n",
        "    return decorator\n",
        "\n",
        "# d = add(1000)\n",
        "# w = d(plus)\n",
        "# w(10, 20)\n",
        "\n",
        "add(1000)(plus)(10, 20)"
      ],
      "metadata": {
        "id": "AUQ0dkUBxKeX"
      },
      "execution_count": null,
      "outputs": []
    },
    {
      "cell_type": "code",
      "source": [
        "def func(a, b, *, c, d):\n",
        "    print(a, b, c, d)\n",
        "\n",
        "# func(1, 2, c = 3, d = 4)  # 올바른 예시\n",
        "# func(1, 2, 3, d = 4)  # 잘못된 예시\n",
        "# func(1, 2, 3, 4)    # 잘못된 예시"
      ],
      "metadata": {
        "id": "L72dkl-o2T_v"
      },
      "execution_count": null,
      "outputs": []
    },
    {
      "cell_type": "code",
      "source": [
        "def func(a, b, c):\n",
        "    print(a, b, c)\n",
        "\n",
        "args = (1, 2, 3)\n",
        "func(*args)\n",
        "\n",
        "kwargs = {'a': 1, 'b': 2, 'c': 3}\n",
        "func(**kwargs)"
      ],
      "metadata": {
        "id": "y6iedcUX2fPm"
      },
      "execution_count": null,
      "outputs": []
    },
    {
      "cell_type": "code",
      "source": [
        "def func(a, b, c):\n",
        "    print(a, b, c)\n",
        "\n",
        "args = (1, 2, 3)\n",
        "func(*args)\n",
        "print(args, *args)\n",
        "\n",
        "kwargs = {'a': 1, 'b': 2, 'c': 3}\n",
        "func(**kwargs)\n",
        "print(kwargs, **kwargs) # error"
      ],
      "metadata": {
        "id": "5LUNpSJL3A4T"
      },
      "execution_count": null,
      "outputs": []
    },
    {
      "cell_type": "code",
      "source": [
        "kwargs = {'a': 1, 'b': 2, 'c': 3}\n",
        "print(kwargs, *kwargs)\n",
        "# print(kwargs, **kwargs) # 왜 에스터리스크가 2개일 때 error가 날까요?\n",
        "# print(kwargs, a=1, b=2, c=3) # 이 코드가 바로 위의 코드와 같습니다."
      ],
      "metadata": {
        "colab": {
          "base_uri": "https://localhost:8080/"
        },
        "id": "u3fWlACS3iS9",
        "outputId": "2cd3f007-8082-4cc2-aa73-e095d6102489"
      },
      "execution_count": 1,
      "outputs": [
        {
          "output_type": "stream",
          "name": "stdout",
          "text": [
            "{'a': 1, 'b': 2, 'c': 3} a b c\n"
          ]
        }
      ]
    },
    {
      "cell_type": "code",
      "source": [
        "def func(d=100, c=200, b=300, a=400):\n",
        "    print(d, c, b, a)\n",
        "\n",
        "kwargs = {'a': 1, 'b': 2, 'c': 3}\n",
        "func(**kwargs)\n"
      ],
      "metadata": {
        "colab": {
          "base_uri": "https://localhost:8080/"
        },
        "id": "yu_k8dcc31Wr",
        "outputId": "ae0b2cfa-2f21-4a68-de9d-9a24e9c50e7e"
      },
      "execution_count": 2,
      "outputs": [
        {
          "output_type": "stream",
          "name": "stdout",
          "text": [
            "100 3 2 1\n"
          ]
        }
      ]
    },
    {
      "cell_type": "code",
      "source": [
        "def func(a=100, **kargs):\n",
        "    print(a, kargs)\n",
        "\n",
        "func(1000, i=1, j=2, k=3)\n"
      ],
      "metadata": {
        "id": "xrU1ayGd4QCz"
      },
      "execution_count": null,
      "outputs": []
    },
    {
      "cell_type": "code",
      "source": [
        "class MyIterator:\n",
        "    def __init__(self, stop):\n",
        "        self.current_value = 0  # 현재 값\n",
        "        self.stop = stop  # 순회를 멈출 값\n",
        "\n",
        "    def __iter__(self):\n",
        "        return self\n",
        "\n",
        "    def __next__(self):\n",
        "        if self.current_value >= self.stop:\n",
        "            raise StopIteration\n",
        "        result = self.current_value\n",
        "        self.current_value += 1\n",
        "        return result\n",
        "\n",
        "my_iterator = MyIterator(5)\n",
        "\n",
        "for i in my_iterator:\n",
        "    print(i)"
      ],
      "metadata": {
        "id": "Tomh11p96R01"
      },
      "execution_count": null,
      "outputs": []
    },
    {
      "cell_type": "code",
      "source": [
        "class MyIterator:\n",
        "    def __init__(self, stop):\n",
        "        self.current_value = 0  # 현재 값\n",
        "        self.stop = stop  # 순회를 멈출 값\n",
        "\n",
        "    def __iter__(self):\n",
        "        return self\n",
        "\n",
        "    def __next__(self):\n",
        "        if self.current_value >= self.stop:\n",
        "            raise StopIteration\n",
        "        result = self.current_value\n",
        "        self.current_value += 1\n",
        "        return result\n",
        "\n",
        "my_iterator = MyIterator(5)\n",
        "\n",
        "for i in my_iterator:\n",
        "    print(i)\n",
        "\n",
        "for i in my_iterator:\n",
        "    print(i)"
      ],
      "metadata": {
        "id": "yGApzMt4-xws"
      },
      "execution_count": null,
      "outputs": []
    },
    {
      "cell_type": "code",
      "source": [
        "class MyIterator:\n",
        "    def __init__(self, stop):\n",
        "        self.stop = stop  # 순회를 멈출 값\n",
        "\n",
        "    def __iter__(self):\n",
        "        self.current_value = 0  # 현재 값\n",
        "        return self\n",
        "\n",
        "    def __next__(self):\n",
        "        if self.current_value >= self.stop:\n",
        "            raise StopIteration\n",
        "        result = self.current_value\n",
        "        self.current_value += 1\n",
        "        return result\n",
        "\n",
        "my_iterator = MyIterator(5)\n",
        "\n",
        "for i in my_iterator:\n",
        "    print(i)\n",
        "\n",
        "for i in my_iterator:\n",
        "    print(i)"
      ],
      "metadata": {
        "id": "mrdF0zWF-v-j"
      },
      "execution_count": null,
      "outputs": []
    },
    {
      "cell_type": "code",
      "source": [
        "# 회전초밥집에 들어갔습니다. 초밥은 아래와 같은 양식으로 나옵니다.\n",
        "# [['광어초밥', 1000], ['연어초밥', 2000], ['계란초밥', 3000]]\n",
        "# * 각 초밥은 몇 개 나올지 알 수 없습니다.\n",
        "# * 각 초밥은 1000원씩 비싸집니다.\n",
        "# * 초밥에 '어'가 나오는 초밥만 먹습니다.\n",
        "# 내가 먹은 초밥의 비용을 계산하는 코드를 작성해 주세요.\n",
        "\n",
        "def solution(data):\n",
        "    pass\n",
        "\n",
        "solution([['광어초밥', 1000], ['연어초밥', 2000], ['계란초밥', 3000], ['문어초밥', 4000], ['장어초밥', 5000]])"
      ],
      "metadata": {
        "id": "kbe8K-40zYub"
      },
      "execution_count": null,
      "outputs": []
    },
    {
      "cell_type": "code",
      "source": [
        "def gen(data):\n",
        "    for name, price in data:\n",
        "        if '어' in name:\n",
        "            yield price\n",
        "\n",
        "def solution(data):\n",
        "    return sum(gen(data))\n",
        "\n",
        "solution([['광어초밥', 1000], ['연어초밥', 2000], ['계란초밥', 3000], ['문어초밥', 4000], ['장어초밥', 5000]])"
      ],
      "metadata": {
        "id": "l9s1n6Wcze6X"
      },
      "execution_count": null,
      "outputs": []
    },
    {
      "cell_type": "code",
      "source": [
        "# 문제1\n",
        "# 다음과 같이 동작하는 제너레이터 함수 fibonacci(n)를 완성하세요.\n",
        "# 주어진 숫자 n까지의 피보나치 수열을 반환합니다.\n",
        "# 인터넷에서 피보나치 순열 Python 코드를 검색해보셔도 좋습니다.\n",
        "\n",
        "def fib(n):\n",
        "    pass\n",
        "\n",
        "for i in fib(5):\n",
        "    print(i)\n",
        "\n",
        "'''\n",
        "출력\n",
        "1\n",
        "1\n",
        "2\n",
        "3\n",
        "5\n",
        "'''\n",
        "\n",
        "# 문제2\n",
        "# 함수의 실행 시간을 측정하여 출력하는 데코레이터 time_it를 작성하세요.\n",
        "# (힌트: time 모듈의 time() 함수를 사용하세요.)"
      ],
      "metadata": {
        "id": "B2l-ndjz0beP"
      },
      "execution_count": null,
      "outputs": []
    },
    {
      "cell_type": "code",
      "source": [
        "# 문제1\n",
        "# 다음과 같이 동작하는 제너레이터 함수 fibonacci(n)를 완성하세요.\n",
        "# 주어진 숫자 n까지의 피보나치 수열을 반환합니다.\n",
        "\n",
        "def fib(n):\n",
        "    pre = 1\n",
        "    next = 1\n",
        "    count = 0\n",
        "    while True:\n",
        "        temp = pre + next\n",
        "        yield pre\n",
        "        pre, next = next, temp\n",
        "        count += 1\n",
        "        if count == n:\n",
        "            break\n",
        "\n",
        "for i in fib(5):\n",
        "    print(i)\n",
        "\n",
        "'''\n",
        "출력\n",
        "1\n",
        "1\n",
        "2\n",
        "3\n",
        "5\n",
        "'''\n",
        "\n",
        "# 문제2\n",
        "# 주어진 함수의 실행 시간을 측정하여 출력하는 데코레이터 time_it를 작성하세요.\n",
        "# (힌트: time 모듈의 time() 함수를 사용하세요.)\n",
        "\n",
        "import time\n",
        "\n",
        "def time_it(func):\n",
        "    def wrapper():\n",
        "        start_time = time.time()\n",
        "        func()\n",
        "        end_time = time.time()\n",
        "        print(f\"{end_time - start_time:.4f}s\")\n",
        "    return wrapper\n",
        "\n",
        "@time_it\n",
        "def main():\n",
        "    def fib(n):\n",
        "        pre = 1\n",
        "        next = 1\n",
        "        count = 0\n",
        "        while True:\n",
        "            temp = pre + next\n",
        "            yield pre\n",
        "            pre, next = next, temp\n",
        "            count += 1\n",
        "            if count == n:\n",
        "                break\n",
        "\n",
        "    for i in fib(20):\n",
        "        print(i)\n",
        "\n",
        "main()"
      ],
      "metadata": {
        "id": "E3iSIvKe0ibL"
      },
      "execution_count": null,
      "outputs": []
    },
    {
      "cell_type": "markdown",
      "source": [
        "# 파이썬 버전별 달라진 문법"
      ],
      "metadata": {
        "id": "qF2znSR9HTTJ"
      }
    },
    {
      "cell_type": "code",
      "source": [
        "# 3.6\n",
        "def greet(name: str) -> str:\n",
        "    return f\"Hello, {name}\""
      ],
      "metadata": {
        "id": "b2PVIrMBHV1G"
      },
      "execution_count": null,
      "outputs": []
    },
    {
      "cell_type": "code",
      "source": [
        "# 3.6 주석은 함수 선언 아래에 달아야 __doc__로 확인 가능\n",
        "def greet(name):\n",
        "    '''\n",
        "    인사를 하는 함수입니다.\n",
        "\n",
        "    이 함수는 name 인자로 받아 name과 함께 인사를 하는 함수입니다~~\n",
        "\n",
        "    Args:\n",
        "        a(str): 블라블라\n",
        "        b(int): 블라블라\n",
        "\n",
        "    Returns:\n",
        "        리턴은 이런식입니다.\n",
        "        example: [1, 2, 3]\n",
        "\n",
        "    Raises:\n",
        "        IOError: 애러 블라블라\n",
        "    '''\n",
        "    return f'Hello, {name}'\n",
        "\n",
        "greet(10)\n",
        "greet.__doc__"
      ],
      "metadata": {
        "colab": {
          "base_uri": "https://localhost:8080/",
          "height": 35
        },
        "id": "yem6rIfVIgGa",
        "outputId": "f9100cae-239b-42da-cfb9-bace9d3902cc"
      },
      "execution_count": 1,
      "outputs": [
        {
          "output_type": "execute_result",
          "data": {
            "text/plain": [
              "'Hello, 10'"
            ],
            "application/vnd.google.colaboratory.intrinsic+json": {
              "type": "string"
            }
          },
          "metadata": {},
          "execution_count": 1
        }
      ]
    },
    {
      "cell_type": "code",
      "source": [
        "# 3.8\n",
        "(x := 10) * 3"
      ],
      "metadata": {
        "id": "YT07vI5NKNXO"
      },
      "execution_count": null,
      "outputs": []
    },
    {
      "cell_type": "code",
      "source": [
        "# 3.9 딕셔너리 결합 연산자\n",
        "x = {\"key1\": \"value1\"}\n",
        "y = {\"key2\": \"value2\"}\n",
        "z = x | y\n",
        "dir(z)"
      ],
      "metadata": {
        "id": "H_8a2KlDKZPs"
      },
      "execution_count": null,
      "outputs": []
    },
    {
      "cell_type": "code",
      "source": [
        "# update를 이용해서 결합 가능\n",
        "x = {\"key1\": \"value1\"}\n",
        "x.update({\"key2\": \"value2\"})\n",
        "x"
      ],
      "metadata": {
        "colab": {
          "base_uri": "https://localhost:8080/"
        },
        "id": "wAGJroKIKlL6",
        "outputId": "8547ce5e-177e-4df9-fc9b-4d17e89adda5"
      },
      "execution_count": 3,
      "outputs": [
        {
          "output_type": "execute_result",
          "data": {
            "text/plain": [
              "{'key1': 'value1', 'key2': 'value2'}"
            ]
          },
          "metadata": {},
          "execution_count": 3
        }
      ]
    },
    {
      "cell_type": "markdown",
      "source": [
        "# 파일 입출력"
      ],
      "metadata": {
        "id": "Lel3QVTfNGlN"
      }
    },
    {
      "cell_type": "code",
      "source": [
        "# open(파일이름, 파일모드)\n",
        "f = open('python.txt', 'w')\n",
        "# 파일모드 :\n",
        "# r(읽기모드)\n",
        "# w(쓰기모드, 파일이 없으면 생성합니다, 내용이 있어도 w모드면 덮어씁니다.)\n",
        "# a(추가모드)\n",
        "f.close()"
      ],
      "metadata": {
        "id": "N6TRIYeHLaNt"
      },
      "execution_count": 7,
      "outputs": []
    },
    {
      "cell_type": "code",
      "source": [
        "f = open('python.txt', 'w')\n",
        "s = ''\n",
        "for i in range(1, 6):\n",
        "    s += f'{i}명 참여 중입니다. \\n'\n",
        "f.write(s)\n",
        "f.close()"
      ],
      "metadata": {
        "id": "wmFpnnduLbbV"
      },
      "execution_count": null,
      "outputs": []
    },
    {
      "cell_type": "code",
      "source": [
        "f = open('python.txt', 'r')\n",
        "lines = f.readlines()\n",
        "for line in lines:\n",
        "    print(line)\n",
        "f.close()"
      ],
      "metadata": {
        "id": "hSS6mE7eRo4Z"
      },
      "execution_count": 8,
      "outputs": []
    },
    {
      "cell_type": "code",
      "source": [
        "# 쉬운예제\n",
        "f = open('python.html', 'w')\n",
        "s = '''<html>\n",
        "<head>\n",
        "</head>\n",
        "<body>\n",
        "<h1>hellow world</h1>\n",
        "</body>\n",
        "</html>\n",
        "'''\n",
        "f.write(s)\n",
        "f.close()"
      ],
      "metadata": {
        "id": "THe8Ml-ARqm1"
      },
      "execution_count": 10,
      "outputs": []
    },
    {
      "cell_type": "code",
      "source": [
        "# 쉬운예제\n",
        "f = open('python.csv', 'wt', encoding='utf-8')\n",
        "s = '''제목,평점,이미지,줄거리\n",
        "무빙,5.0,img,줄거리\n",
        "무빙,5.0,img,줄거리\n",
        "무빙,5.0,img,줄거리\n",
        "'''\n",
        "f.write(s)\n",
        "f.close()\n"
      ],
      "metadata": {
        "id": "qlNgqvBOSlni"
      },
      "execution_count": 24,
      "outputs": []
    },
    {
      "cell_type": "code",
      "source": [
        "# 어려운 예제\n",
        "# django의 동작원리와도 관련이 있습니다.\n",
        "import requests\n",
        "from bs4 import BeautifulSoup\n",
        "\n",
        "paullab_url = 'http://paullab.co.kr/bookservice/'\n",
        "response = requests.get(paullab_url)\n",
        "response.encoding = 'utf-8'\n",
        "html = response.text\n",
        "\n",
        "soup = BeautifulSoup(html, 'html.parser')\n",
        "\n",
        "bookservices = soup.select('.col-lg-6 > h2')     # col-lg-6 클래스 안의 h2 태그 탐색\n",
        "\n",
        "\n",
        "contents = ''\n",
        "\n",
        "for no, book in enumerate(bookservices, 1):\n",
        "    contents += f'''\n",
        "                <section>\n",
        "                <h2>{no}. {book.text}</h2>\n",
        "                <img src=''>\n",
        "                </section>\n",
        "                '''\n",
        "\n",
        "# 이미지 양식: https://paullab.co.kr/bookservice/img/notion.jpg\n",
        "f = open('python.html', 'w')\n",
        "s = f'''<html>\n",
        "<head>\n",
        "</head>\n",
        "<body>\n",
        "{contents}\n",
        "</body>\n",
        "</html>\n",
        "'''\n",
        "f.write(s)\n",
        "f.close()"
      ],
      "metadata": {
        "id": "manLkXa4UQjy"
      },
      "execution_count": 13,
      "outputs": []
    },
    {
      "cell_type": "code",
      "source": [
        "# 어려운 예제\n",
        "# django의 동작원리와도 관련이 있습니다.\n",
        "import requests\n",
        "from bs4 import BeautifulSoup\n",
        "\n",
        "paullab_url = 'http://paullab.co.kr/bookservice/'\n",
        "response = requests.get(paullab_url)\n",
        "response.encoding = 'utf-8'\n",
        "html = response.text\n",
        "\n",
        "soup = BeautifulSoup(html, 'html.parser')\n",
        "\n",
        "bookservices = soup.select('.col-lg-6 > h2')     # col-lg-6 클래스 안의 h2 태그 탐색\n",
        "contents = ''\n",
        "\n",
        "for no, (book, img) in enumerate(zip(bookservices, soup.select('img')[2:]), 1):\n",
        "    contents += f'''\n",
        "                <section>\n",
        "                <h2>{no}. {book.text}</h2>\n",
        "                <img src='https://paullab.co.kr/bookservice/{img[\"src\"]}'>\n",
        "                </section>\n",
        "                '''\n",
        "\n",
        "# 이미지 양식: https://paullab.co.kr/bookservice/img/notion.jpg\n",
        "f = open('python.html', 'w')\n",
        "s = f'''<html>\n",
        "<head>\n",
        "</head>\n",
        "<body>\n",
        "{contents}\n",
        "</body>\n",
        "</html>\n",
        "'''\n",
        "f.write(s)\n",
        "f.close()"
      ],
      "metadata": {
        "id": "C7L4YboIViXB"
      },
      "execution_count": null,
      "outputs": []
    },
    {
      "cell_type": "code",
      "source": [
        "for i in soup.select('img')[2:]:\n",
        "    print(i['src'])"
      ],
      "metadata": {
        "id": "8spHrQutYMx2"
      },
      "execution_count": null,
      "outputs": []
    },
    {
      "cell_type": "code",
      "source": [
        "f = open('python.txt', 'a')\n",
        "s = ''\n",
        "for i in range(6, 11):\n",
        "    s += f'{i}명 참여 중입니다. \\n'\n",
        "f.write(s)\n",
        "f.close()"
      ],
      "metadata": {
        "id": "T2nkm5M9Yf1h"
      },
      "execution_count": null,
      "outputs": []
    },
    {
      "cell_type": "code",
      "source": [
        "with open('test.txt', 'w') as f:\n",
        "    f.write('Life is too short, you need python')"
      ],
      "metadata": {
        "id": "STb4ufdaZMA1"
      },
      "execution_count": null,
      "outputs": []
    },
    {
      "cell_type": "code",
      "source": [
        "f = open('python.txt', 'r')\n",
        "lines = f.readlines()\n",
        "for line in lines:\n",
        "    print(line, end='')\n",
        "f.close()"
      ],
      "metadata": {
        "id": "c3Q5hU85ZMtI"
      },
      "execution_count": null,
      "outputs": []
    },
    {
      "cell_type": "code",
      "source": [
        "f = open('python.txt', 'r+') # 읽기 쓰기(기존에 있던 내용을 읽을 수 있고, 최종적으로는 덮어씀)\n",
        "# f.seek(0)  # 파일의 시작 위치로 이동, r모드는 포인터가 맨 앞으로 가 있습니다.\n",
        "print(f.read())\n",
        "f.write('hello world2\\nhello world2\\n')\n",
        "f.seek(0)  # 파일의 시작 위치로 이동\n",
        "print(f.read())\n",
        "f.close()"
      ],
      "metadata": {
        "id": "xPc98a6BJarN"
      },
      "execution_count": null,
      "outputs": []
    },
    {
      "cell_type": "code",
      "source": [
        "f = open('python.txt', 'r+') # 포인터가 처음\n",
        "print(f.read())\n",
        "f.close()"
      ],
      "metadata": {
        "id": "YjurK1AoK2Yo"
      },
      "execution_count": null,
      "outputs": []
    },
    {
      "cell_type": "code",
      "source": [
        "f = open('python.txt', 'a+') # 포인터가 끝\n",
        "print(f.read())\n",
        "f.close()"
      ],
      "metadata": {
        "id": "ya0EXqTlK3Oz"
      },
      "execution_count": null,
      "outputs": []
    },
    {
      "cell_type": "markdown",
      "source": [
        "# 비트연산"
      ],
      "metadata": {
        "id": "aVszgaoSbT9R"
      }
    },
    {
      "cell_type": "code",
      "source": [
        "11 & 10"
      ],
      "metadata": {
        "colab": {
          "base_uri": "https://localhost:8080/"
        },
        "id": "ZgEAS3osbU5-",
        "outputId": "a35ffea3-be9a-4996-e2e6-acef61536f09"
      },
      "execution_count": 15,
      "outputs": [
        {
          "output_type": "execute_result",
          "data": {
            "text/plain": [
              "10"
            ]
          },
          "metadata": {},
          "execution_count": 15
        }
      ]
    },
    {
      "cell_type": "code",
      "source": [
        "5 | 12"
      ],
      "metadata": {
        "colab": {
          "base_uri": "https://localhost:8080/"
        },
        "id": "JMEEMKVZbefV",
        "outputId": "a3735d63-31e7-4ee2-f15d-ca1392755ba9"
      },
      "execution_count": 25,
      "outputs": [
        {
          "output_type": "execute_result",
          "data": {
            "text/plain": [
              "13"
            ]
          },
          "metadata": {},
          "execution_count": 25
        }
      ]
    },
    {
      "cell_type": "code",
      "source": [
        "5 & 12"
      ],
      "metadata": {
        "colab": {
          "base_uri": "https://localhost:8080/"
        },
        "id": "iMlV2mTxgVF5",
        "outputId": "c9625569-55e8-4472-9b4a-0122c7061033"
      },
      "execution_count": 26,
      "outputs": [
        {
          "output_type": "execute_result",
          "data": {
            "text/plain": [
              "4"
            ]
          },
          "metadata": {},
          "execution_count": 26
        }
      ]
    },
    {
      "cell_type": "code",
      "source": [],
      "metadata": {
        "id": "FBkQDIUOgW4g"
      },
      "execution_count": null,
      "outputs": []
    },
    {
      "cell_type": "markdown",
      "source": [
        "# f-string 문법"
      ],
      "metadata": {
        "id": "4y6c6s31j7MC"
      }
    },
    {
      "cell_type": "code",
      "source": [
        "num = 3.14159\n",
        "print(f\"{num:.2f}\")  # 출력: 3.14\n",
        "\n",
        "name = \"Alice\"\n",
        "print(f\"{name:>10}\")  # 출력:      Alice"
      ],
      "metadata": {
        "colab": {
          "base_uri": "https://localhost:8080/"
        },
        "id": "qJTI_XWKj8oz",
        "outputId": "59c846f3-db38-4198-8e50-77acdbb294ef"
      },
      "execution_count": 27,
      "outputs": [
        {
          "output_type": "stream",
          "name": "stdout",
          "text": [
            "3.14\n",
            "     Alice\n"
          ]
        }
      ]
    },
    {
      "cell_type": "code",
      "source": [
        "# 파이썬(Python) 3 포맷팅 방식\n",
        "print('나의 이름은 {}입니다'.format('한사람'))\n",
        "print('나의 이름은 {0}입니다. 나이는 {1}세이고 성별은 {2}입니다.'.format('한사람',33,'남성'))\n",
        "print('나이는 {1}세이고 성별은 {2}입니다. 나의 이름은 {0}입니다. '.format('한사람',33,'남성'))\n",
        "print('나이는 {age}세이고 성별은 {gender}입니다. 나의 이름은 {name}입니다. '\n",
        "         .format(name='한사람',age=33,gender='남성'))\n",
        "print('만세삼창 :  {0}!!! {0}!!! {0}!!! '.format('만세'))\n",
        "print('삼삼칠 박수 :  {0}!!! {0}!!! {1}!!! '.format('짝'*3,'짝'*7))\n",
        "print('-' * 40)\n",
        "\n",
        "# 파이썬(Python) 3.6 f-string 방식\n",
        "something = '볼펜'\n",
        "EA = 2\n",
        "one_length = 5.343\n",
        "scale = 'cm'\n",
        "\n",
        "print(f'{something} {EA}개의 길이는 {one_length*EA}{scale} 입니다.')\n",
        "print(f'{something} {EA}개의 길이는 {one_length*EA:.1f}{scale} 입니다.')"
      ],
      "metadata": {
        "id": "4pxgxPmplhJS"
      },
      "execution_count": null,
      "outputs": []
    },
    {
      "cell_type": "code",
      "source": [
        "# 파이썬(Python) 3 포맷팅 방식\n",
        "print('나의 이름은 {}입니다'.format('한사람'))\n",
        "print('나의 이름은 {0}입니다. 나이는 {1}세이고 성별은 {2}입니다.'.format('한사람',33,'남성'))\n",
        "print('나이는 {1}세이고 성별은 {2}입니다. 나의 이름은 {0}입니다. '.format('한사람',33,'남성'))\n",
        "print('나이는 {age}세이고 성별은 {gender}입니다. 나의 이름은 {name}입니다.'.format(name='한사람',age=33,gender='남성'))\n",
        "print('만세삼창 :  {0}!!! {0}!!! {0}!!! '.format('만세'))\n",
        "print('삼삼칠 박수 :  {0}!!! {0}!!! {1}!!! '.format('짝'*3,'짝'*7))\n",
        "print('-' * 40)\n",
        "\n",
        "print('나의 이름은 {0:.2f}입니다'.format(3.141592))\n",
        "print('나의 이름은 {0:>20}입니다'.format(3.141592))"
      ],
      "metadata": {
        "id": "ayngXUQDorpl"
      },
      "execution_count": null,
      "outputs": []
    },
    {
      "cell_type": "code",
      "source": [
        "# 파이썬(Python) 3.6 f-string 방식\n",
        "something = '볼펜'\n",
        "EA = 2\n",
        "one_length = 5.343\n",
        "scale = 'cm'\n",
        "\n",
        "print(f'{something} {EA}개의 길이는 {one_length*EA}{scale} 입니다.')\n",
        "print(f'{something} {EA}개의 길이는 {one_length*EA:.1f}{scale} 입니다.')"
      ],
      "metadata": {
        "id": "qysjigmUosns"
      },
      "execution_count": null,
      "outputs": []
    },
    {
      "cell_type": "code",
      "source": [
        "print('[{:15}]'.format('10')) # 양식 같음, 자료형만 다름\n",
        "print('[{:15}]'.format(10)) # 양식 같음, 자료형만 다름"
      ],
      "metadata": {
        "colab": {
          "base_uri": "https://localhost:8080/"
        },
        "id": "DqDLsk7n5qFQ",
        "outputId": "a82480ad-6fdc-40a5-f1de-6254c7cb2034"
      },
      "execution_count": 28,
      "outputs": [
        {
          "output_type": "stream",
          "name": "stdout",
          "text": [
            "[10             ]\n",
            "[             10]\n"
          ]
        }
      ]
    },
    {
      "cell_type": "code",
      "source": [
        "char_a = '5'\n",
        "int_a = 5\n",
        "\n",
        "'''기본적으로 {} 포맷팅의 특성을 그대로 가짐'''\n",
        "print(1234567890)\n",
        "print(f'{char_a:>5}') # >는 오른쪽정렬\n",
        "print(f'{char_a:<5}') # <는 왼쪽정렬\n",
        "print(f'{char_a:^5}') # ^는 가운데정렬\n",
        "print(f'{int_a:0<5}')# <는 왼쪽정렬, 빈자리를 0으로 채울수도 있음\n",
        "print(f'{int_a:^10.2f}') # ^ 가운데 정렬하면서 float 타입지정"
      ],
      "metadata": {
        "id": "a3JvyZx15sV6"
      },
      "execution_count": null,
      "outputs": []
    },
    {
      "cell_type": "code",
      "source": [
        "int_a = 5\n",
        "print(f'{int_a:0<5}') # <는 왼쪽정렬, 빈자리를 0으로 채울수도 있음\n",
        "print(f'{int_a:0>5}') # <는 왼쪽정렬, 빈자리를 0으로 채울수도 있음\n",
        "\n",
        "'12345'.zfill(10)"
      ],
      "metadata": {
        "id": "aQqN8J79-_KF"
      },
      "execution_count": null,
      "outputs": []
    },
    {
      "cell_type": "code",
      "source": [
        "#문제1: 1 ~ 9 까지 더하는 프로그램\n",
        "# summary = 0\n",
        "# for i in range(1, 10):\n",
        "#     summary += i\n",
        "# print(summary)\n",
        "\n",
        "def sum_numbers(start, end):\n",
        "    summary = 0\n",
        "    for i in range(start, end + 1):\n",
        "        summary += i\n",
        "    return summary\n",
        "\n",
        "result = sum_numbers(1, 9)\n",
        "print(result)\n",
        "\n",
        "#문제2: 1 ~ 9 까지 홀수의 합\n",
        "# summary = 0\n",
        "# for i in range(1, 10, 2):\n",
        "#     summary += i\n",
        "# print(summary)\n",
        "\n",
        "def sum_numbers(start, end):\n",
        "    summary = 0\n",
        "    for i in range(start, end + 1, 2):\n",
        "        summary += i\n",
        "    return summary\n",
        "\n",
        "result = sum_numbers(1, 9)\n",
        "print(result)\n",
        "\n",
        "\n",
        "#문제3: 1000 미만의 자연수에서 3의 배수와 5의 배수의 총합을 구하는 프로그램을 작성\n",
        "# summary = 0\n",
        "# for i in range(1, 1000):\n",
        "#     if i % 3 == 0 or i % 5 == 0:\n",
        "#         summary += i\n",
        "# print(summary)\n",
        "\n",
        "def sum_numbers(start, end):\n",
        "    summary = 0\n",
        "    for i in range(start, end):\n",
        "        if i % 3 == 0 or i % 5 == 0:\n",
        "            summary += i\n",
        "    return summary\n",
        "\n",
        "result = sum_numbers(1, 1000)\n",
        "print(result)"
      ],
      "metadata": {
        "colab": {
          "base_uri": "https://localhost:8080/"
        },
        "id": "KJRU90HH_ewn",
        "outputId": "f6652b45-862b-480c-f1f6-b56cde950b44"
      },
      "execution_count": 62,
      "outputs": [
        {
          "output_type": "stream",
          "name": "stdout",
          "text": [
            "45\n",
            "25\n",
            "233168\n"
          ]
        }
      ]
    },
    {
      "cell_type": "code",
      "source": [
        "# 문제 4: 아래 매트릭스를 모두 더해주세요.\n",
        "m = [[1, 2, 3], [4, 5, 6], [7, 8, 9]]\n",
        "sum(m, [])"
      ],
      "metadata": {
        "colab": {
          "base_uri": "https://localhost:8080/"
        },
        "id": "x7MlBNBlAI1z",
        "outputId": "b91dedb7-7a26-4454-846a-2bab11ff8bf2"
      },
      "execution_count": 1,
      "outputs": [
        {
          "output_type": "execute_result",
          "data": {
            "text/plain": [
              "[1, 2, 3, 4, 5, 6, 7, 8, 9]"
            ]
          },
          "metadata": {},
          "execution_count": 1
        }
      ]
    },
    {
      "cell_type": "code",
      "source": [
        "sum([1, 2, 3], 100)\n",
        "\n",
        "sum([[1, 2, 3], [4, 5, 6], [7, 8, 9]], [])\n",
        "# [1, 2, 3] + [] == [1, 2, 3]\n",
        "# [4, 5, 6] + [1, 2, 3] == [4, 5, 6, 1, 2, 3]\n",
        "# [7, 8, 9] + [4, 5, 6, 1, 2, 3] == [7, 8, 9, 4, 5, 6, 1, 2, 3]"
      ],
      "metadata": {
        "id": "Ht6i09gZLXDo"
      },
      "execution_count": null,
      "outputs": []
    },
    {
      "cell_type": "code",
      "source": [
        "import numpy as np # 수학 수식에 막강한 성능을 자랑합니다. 파이썬보다 속도도 훨씬 빠르고 기능도 많음.\n",
        "\n",
        "np.sum([[1, 2, 3], [4, 5, 6], [7, 8, 9]])"
      ],
      "metadata": {
        "id": "sLpYh54BL_MN"
      },
      "execution_count": null,
      "outputs": []
    },
    {
      "cell_type": "code",
      "source": [
        "d = {}\n",
        "s = \"Hello, World! This is a sample string for testing purposes.\"\n",
        "s = s.replace(',', '').replace('!', '').replace('.', '').replace(' ', '')\n",
        "\n",
        "# 풀이1, 순회를 돌면서 dict에 있으면 += 1, 없으면 =1 대입하면서 푼다\n",
        "for i in s:\n",
        "    if i in d:\n",
        "        d[i] += 1\n",
        "    else:\n",
        "        d[i] = 1\n",
        "d\n",
        "# 풀이2, set으로 만들어서 count를 한다.ㄹ"
      ],
      "metadata": {
        "id": "b8jamaL1PMdK"
      },
      "execution_count": null,
      "outputs": []
    },
    {
      "cell_type": "code",
      "source": [
        "# 문제6 트리만들기\n",
        "for i in range(1, 10):\n",
        "    print((' ' * (10 - i + 1)) + ('*' * (2 * i - 1)))\n",
        "\n",
        "\n",
        "\n",
        "#         *\n",
        "#        ***\n",
        "#       *****\n",
        "#      *******\n",
        "#     *********\n",
        "#    ***********\n",
        "#   *************\n",
        "#  ***************\n",
        "# *****************"
      ],
      "metadata": {
        "id": "bTXvywnOPMWW"
      },
      "execution_count": null,
      "outputs": []
    },
    {
      "cell_type": "code",
      "source": [
        "for i in range(1, 10):\n",
        "    print(f\"{' ' * (10 - i + 1)}{'*' * ((2 * i) - 1)}\")"
      ],
      "metadata": {
        "id": "DPYqQ3BoSf0o"
      },
      "execution_count": null,
      "outputs": []
    },
    {
      "cell_type": "code",
      "source": [
        "data = 18\n",
        "for i in range(1, 10):\n",
        "    print(f\"{'*' * ((2 * i) - 1):^{data}}\")"
      ],
      "metadata": {
        "id": "cYrGgOz0Sgyo"
      },
      "execution_count": null,
      "outputs": []
    },
    {
      "cell_type": "code",
      "source": [
        "# 다음 자료구조 클래스를 만들어주세요.\n",
        "# 데이터는 <1, 2, 3, 4> 형식으로 숫자만 저장됩니다.\n",
        "# print()를 하면 <1, 2, 3, 4>와 같이 출력이 되어야 합니다.\n",
        "# 메서드는 append, remove가 있습니다.\n",
        "# 아래 연산은 길이가 다르면 error가 납니다.\n",
        "# <1, 2, 3, 4> + <1, 2, 3, 4> == <2, 4, 6, 8>와 같이 같은 순서에 요소를 더합니다.\n",
        "# <1, 2, 3, 4> - <1, 2, 3, 4> == <0, 0, 2, 2>와 같이 같은 순서에 요소를 뺍니다.\n",
        "# <1, 2, 3, 4> * 3 == <3, 6, 9, 12>가 됩니다.\n",
        "# 나누기는 지원하지 않습니다.\n",
        "\n",
        "class OperList:\n",
        "    def __init__(self, *args): # *args 아귀먼트 여러개 사용\n",
        "        self.__operlist = list(args)  # list로 값을 넣음\n",
        "        # self.__operlist = [args]  # list로 값을 넣음\n",
        "\n",
        "    def __str__(self):\n",
        "        return f'<{str(self.__operlist)[1:-1]}>'\n",
        "        # f 스트링은 str 값으로 변경해주기 위해 사용\n",
        "        # <> 로 감싼것은 조건에 맞추기 위해\n",
        "        # [1:-1] 은 리스트 앞 뒤 () 삭제\n",
        "        # self.__operlist는 위에 입력값 가져옴\n",
        "\n",
        "    def __repr__(self):\n",
        "        return f'<{str(self.__operlist)[1:-1]}>'\n",
        "\n",
        "    def __len__(self):\n",
        "        return self.__operlist.__len__()\n",
        "\n",
        "    def __add__(self, other):\n",
        "        if len(self.__operlist) != len(other.__operlist):  # other가 뭔지찾아보기\n",
        "            raise\n",
        "        for i in range(len(self.__operlist)):\n",
        "            self.__operlist[i] += other.__operlist[i]\n",
        "        return self.__operlist\n",
        "\n",
        "    def __sub__(self, other):\n",
        "        if len(self.__operlist) != len(other.__operlist):\n",
        "            raise\n",
        "        for i in range(len(self.__operlist)):\n",
        "            self.__operlist[i] -= other.__operlist[i]\n",
        "        return self.__operlist\n",
        "\n",
        "    def __mul__(self, other):\n",
        "        if not isinstance(other, int)\n",
        "            raise\n",
        "        for i in range(len(self.__operlist)):\n",
        "            self.__operlist[i] *= other\n",
        "        return self.__operlist\n",
        "\n",
        "    def append(self, data):\n",
        "        self.__operlist.append(data)\n",
        "\n",
        "    def remove(self, data):\n",
        "        self.__operlist.remove(data)\n",
        "\n",
        "\n",
        "l = OperList(1, 2, 3, 4)\n",
        "ll = OperList(3, 4, 5, 6)\n",
        "# l + l =>\n",
        "print(l)\n",
        "l + ll"
      ],
      "metadata": {
        "colab": {
          "base_uri": "https://localhost:8080/"
        },
        "id": "ZaA-xD-JVd2w",
        "outputId": "e9140883-4345-4653-8f4d-4ba0dcca1681"
      },
      "execution_count": 14,
      "outputs": [
        {
          "output_type": "stream",
          "name": "stdout",
          "text": [
            "<1, 2, 3, 4>\n"
          ]
        },
        {
          "output_type": "execute_result",
          "data": {
            "text/plain": [
              "[4, 6, 8, 10]"
            ]
          },
          "metadata": {},
          "execution_count": 14
        }
      ]
    },
    {
      "cell_type": "code",
      "source": [
        "'''\n",
        "과제2\n",
        "student.csv에는 아래와 같은 텍스트가 담겨있습니다.\n",
        "학년,반,번,이름,국어,영어,수학,사회\n",
        "3,3,1,licat,90,80,30,40\n",
        "3,3,2,mura,80,70,60,30\n",
        "3,3,3,binky,30,80,70,30\n",
        "\n",
        "학생들의 평균을 구해 아래와 같이 student.csv출력되게 해주세요.(xx이라 표기된 곳에 평균 값이 들어가야 합니다.)\n",
        "학년,반,번,이름,국어,영어,수학,사회,평균\n",
        "3,3,1,licat,90,80,30,40,xx\n",
        "3,3,2,mura,80,70,60,30,xx\n",
        "3,3,3,binky,30,80,70,30,xx\n",
        "'''"
      ],
      "metadata": {
        "id": "RvhupKflYVV-"
      },
      "execution_count": null,
      "outputs": []
    },
    {
      "cell_type": "code",
      "source": [
        "contents = ''\n",
        "\n",
        "for no, book in enumerate(bookservices, 1):\n",
        "    contents += f'''\n",
        "                <section>\n",
        "                <h2>{no}. {book.text}</h2>\n",
        "                <img src=''>\n",
        "                </section>\n",
        "                '''\n",
        "\n",
        "# 이미지 양식: https://paullab.co.kr/bookservice/img/notion.jpg\n",
        "f = open('student.scv', 'w')\n",
        "s = f'''<html>\n",
        "<head>\n",
        "</head>\n",
        "<body>\n",
        "{contents}\n",
        "</body>\n",
        "</html>\n",
        "'''\n",
        "f.write(s)\n",
        "f.close()"
      ],
      "metadata": {
        "id": "J8f8pl0nqtk2"
      },
      "execution_count": null,
      "outputs": []
    },
    {
      "cell_type": "code",
      "source": [
        "f = open('student.csv', 'w+', encoding='utf-8')\n",
        "s = '''\n",
        "학년,반,번,이름,국어,영어,수학,사회\n",
        "3,3,1,licat,90,80,30,40\n",
        "3,3,2,mura,80,70,60,30\n",
        "3,3,3,binky,30,80,70,30\n",
        "'''\n",
        "f.write(s)\n",
        "f.close()\n",
        "\n",
        "f = open('student.csv', 'r')\n",
        "data = f.read()\n",
        "f.close()\n",
        "\n",
        "student_data = data.split('\\n')[1:-1]\n",
        "student_data1 = data.split('\\n')[1:-1]\n",
        "\n",
        "for i in range(len(student_data)-1):\n",
        "    student = student_data[i+1].split(',')\n",
        "    sum = 0\n",
        "    for i in range(0, 4, 1) :\n",
        "        sum += int(student[i+4])\n",
        "    avg = sum/4\n",
        "    print(avg)\n",
        "    student_data1.insert(i,avg)\n",
        "student_data1\n",
        "\n",
        "\n",
        "\n",
        "# f = open('student.csv', 'w+', encoding='utf-8')\n",
        "# s = '''\n",
        "# 학년,반,번,이름,국어,영어,수학,사회\n",
        "# 3,3,1,licat,90,80,30,40\n",
        "# 3,3,2,mura,80,70,60,30\n",
        "# 3,3,3,binky,30,80,70,30\n",
        "# '''\n",
        "# f.write(s)\n",
        "# f.close()\n",
        "\n",
        "# print(data)"
      ],
      "metadata": {
        "colab": {
          "base_uri": "https://localhost:8080/"
        },
        "id": "NdlM-iKLq64M",
        "outputId": "567b8366-af39-4db5-ebef-de9749271c2e"
      },
      "execution_count": 139,
      "outputs": [
        {
          "output_type": "stream",
          "name": "stdout",
          "text": [
            "60.0\n",
            "60.0\n",
            "52.5\n"
          ]
        },
        {
          "output_type": "execute_result",
          "data": {
            "text/plain": [
              "['학년,반,번,이름,국어,영어,수학,사회',\n",
              " '3,3,1,licat,90,80,30,40',\n",
              " '3,3,2,mura,80,70,60,30',\n",
              " 52.5,\n",
              " 60.0,\n",
              " 60.0,\n",
              " '3,3,3,binky,30,80,70,30']"
            ]
          },
          "metadata": {},
          "execution_count": 139
        }
      ]
    },
    {
      "cell_type": "code",
      "source": [
        "s = ''\n",
        "with open('student.csv', 'r') as f:\n",
        "    lines = f.readlines()\n",
        "    s += lines[0][:-1] + ',평균'\n",
        "    for i in lines[1:]:\n",
        "        data = i.split(',')\n",
        "        s += f'\\n{i.strip()},{sum(map(int, data[4:])) / 4}'\n",
        "\n",
        "with open('student.csv', 'w') as f:\n",
        "    f.write(s)"
      ],
      "metadata": {
        "id": "lGUw7hGN9_Zp"
      },
      "execution_count": null,
      "outputs": []
    },
    {
      "cell_type": "code",
      "source": [
        "\n",
        "student = data.split('\\n')[1:-1]\n",
        "\n",
        "abcd = student[1].split(',')\n",
        "asdf = abcd[4]\n",
        "asdf"
      ],
      "metadata": {
        "colab": {
          "base_uri": "https://localhost:8080/",
          "height": 35
        },
        "id": "tEJmtfAJr7im",
        "outputId": "029a9cfc-7767-4164-a4ce-6ea0cc3454b1"
      },
      "execution_count": 70,
      "outputs": [
        {
          "output_type": "execute_result",
          "data": {
            "text/plain": [
              "'90'"
            ],
            "application/vnd.google.colaboratory.intrinsic+json": {
              "type": "string"
            }
          },
          "metadata": {},
          "execution_count": 70
        }
      ]
    },
    {
      "cell_type": "code",
      "source": [],
      "metadata": {
        "id": "aDkEXbnZsHBd"
      },
      "execution_count": null,
      "outputs": []
    }
  ]
}